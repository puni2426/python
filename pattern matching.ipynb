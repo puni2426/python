{
  "nbformat": 4,
  "nbformat_minor": 0,
  "metadata": {
    "colab": {
      "name": "Untitled2.ipynb",
      "provenance": [],
      "collapsed_sections": [],
      "authorship_tag": "ABX9TyOYE/MxFaHO+sEgpArbMIOn",
      "include_colab_link": true
    },
    "kernelspec": {
      "name": "python3",
      "display_name": "Python 3"
    }
  },
  "cells": [
    {
      "cell_type": "markdown",
      "metadata": {
        "id": "view-in-github",
        "colab_type": "text"
      },
      "source": [
        "<a href=\"https://colab.research.google.com/github/puni2426/python/blob/main/pattern%20matching.ipynb\" target=\"_parent\"><img src=\"https://colab.research.google.com/assets/colab-badge.svg\" alt=\"Open In Colab\"/></a>"
      ]
    },
    {
      "cell_type": "markdown",
      "metadata": {
        "id": "koE4wk8owrSb"
      },
      "source": [
        "__<h1>Pattern Matching</h1>__"
      ]
    },
    {
      "cell_type": "code",
      "metadata": {
        "colab": {
          "base_uri": "https://localhost:8080/"
        },
        "id": "aCyLgbv_wOeV",
        "outputId": "ad535357-0f59-4a50-a8b2-163f8bd1b9b8"
      },
      "source": [
        " n=4\n",
        "for i in range (0,n):\n",
        "  for j in range (0,i):\n",
        "    print(\"*\", end=\" \")\n",
        "  print( )"
      ],
      "execution_count": null,
      "outputs": [
        {
          "output_type": "stream",
          "text": [
            "\n",
            "* \n",
            "* * \n",
            "* * * \n"
          ],
          "name": "stdout"
        }
      ]
    },
    {
      "cell_type": "code",
      "metadata": {
        "colab": {
          "base_uri": "https://localhost:8080/"
        },
        "id": "AUAUdYaWu0nQ",
        "outputId": "1d6df623-606d-4bbf-a470-6b383caa6cee"
      },
      "source": [
        "n=4\n",
        "for i in range (0,n):\n",
        "  for j in range (0,i):\n",
        "    print(i, end=\" \")\n",
        "  print( )"
      ],
      "execution_count": null,
      "outputs": [
        {
          "output_type": "stream",
          "text": [
            "\n",
            "1 \n",
            "2 2 \n",
            "3 3 3 \n"
          ],
          "name": "stdout"
        }
      ]
    },
    {
      "cell_type": "code",
      "metadata": {
        "colab": {
          "base_uri": "https://localhost:8080/"
        },
        "id": "yiM-54DtwUuJ",
        "outputId": "3d68f9ec-bf08-4d27-fc0a-ff91b49a03da"
      },
      "source": [
        " n=4\n",
        "for i in range (0,n):\n",
        "  for j in range (0,i):\n",
        "    print(\"*\", end=\"\")\n",
        "  print( )"
      ],
      "execution_count": null,
      "outputs": [
        {
          "output_type": "stream",
          "text": [
            "\n",
            "*\n",
            "**\n",
            "***\n"
          ],
          "name": "stdout"
        }
      ]
    },
    {
      "cell_type": "code",
      "metadata": {
        "colab": {
          "base_uri": "https://localhost:8080/"
        },
        "id": "UJjhzqgVxNac",
        "outputId": "a6873b0e-6e3c-4456-feb9-1c41b460993d"
      },
      "source": [
        " n=4\n",
        "for i in range (0,n):\n",
        "  for j in range (0,i):\n",
        "    print(i, end=\"\")\n",
        "  print( )"
      ],
      "execution_count": null,
      "outputs": [
        {
          "output_type": "stream",
          "text": [
            "\n",
            "1\n",
            "22\n",
            "333\n"
          ],
          "name": "stdout"
        }
      ]
    },
    {
      "cell_type": "code",
      "metadata": {
        "colab": {
          "base_uri": "https://localhost:8080/"
        },
        "id": "s_1i9yRExU2f",
        "outputId": "3792f67f-36a0-46cb-97c4-4032eeef5aac"
      },
      "source": [
        " n=4\n",
        "for i in range (0,n+1):\n",
        "  for j in range (1,i):\n",
        "    print(j, end=\" \")\n",
        "  print( )"
      ],
      "execution_count": null,
      "outputs": [
        {
          "output_type": "stream",
          "text": [
            "\n",
            "\n",
            "1 \n",
            "1 2 \n",
            "1 2 3 \n"
          ],
          "name": "stdout"
        }
      ]
    },
    {
      "cell_type": "code",
      "metadata": {
        "colab": {
          "base_uri": "https://localhost:8080/"
        },
        "id": "dU6GJgfXxkHf",
        "outputId": "99cb2fe9-a63b-4683-c475-1c6024289963"
      },
      "source": [
        "n=4\n",
        "for i in range (0,n+1):\n",
        "  for j in range (1,i):\n",
        "    print(j, end=\"\")\n",
        "  print( )"
      ],
      "execution_count": null,
      "outputs": [
        {
          "output_type": "stream",
          "text": [
            "\n",
            "\n",
            "1\n",
            "12\n",
            "123\n"
          ],
          "name": "stdout"
        }
      ]
    },
    {
      "cell_type": "code",
      "metadata": {
        "colab": {
          "base_uri": "https://localhost:8080/"
        },
        "id": "9sFRABUaBp99",
        "outputId": "acdc8955-2f3d-4c59-d885-ca8441efd343"
      },
      "source": [
        " n=4\n",
        "for i in range (0,n):\n",
        "  for j in range (0,i+1):\n",
        "    print(\"* \", end=\" \")\n",
        "  print(\"\\r\")"
      ],
      "execution_count": 1,
      "outputs": [
        {
          "output_type": "stream",
          "text": [
            "*  \r\n",
            "*  *  \r\n",
            "*  *  *  \r\n",
            "*  *  *  *  \r\n"
          ],
          "name": "stdout"
        }
      ]
    },
    {
      "cell_type": "code",
      "metadata": {
        "colab": {
          "base_uri": "https://localhost:8080/"
        },
        "id": "D5zn_VYpCQmH",
        "outputId": "7654ed36-22a1-494a-b876-6664afbd47a6"
      },
      "source": [
        " n=4\n",
        "for i in range (0,n):\n",
        "  for j in range (0,i+1):\n",
        "    print(\"*\", end=\"\")\n",
        "  print(\"\\r\")"
      ],
      "execution_count": 4,
      "outputs": [
        {
          "output_type": "stream",
          "text": [
            "*\r\n",
            "**\r\n",
            "***\r\n",
            "****\r\n"
          ],
          "name": "stdout"
        }
      ]
    },
    {
      "cell_type": "code",
      "metadata": {
        "colab": {
          "base_uri": "https://localhost:8080/"
        },
        "id": "kcQNSSdaCe3U",
        "outputId": "0cfbfdf0-f7ec-4c40-be4d-22a208460cde"
      },
      "source": [
        "k=n-1\n",
        "for i in range (0,n):\n",
        "  for j in range (0,k):\n",
        "    print(end=\" \")\n",
        "  k=k-1\n",
        "  for j in range (0,i+1):\n",
        "    print(\"* \", end=\" \")\n",
        "  print(\"\\r\")\n",
        "n=5"
      ],
      "execution_count": 11,
      "outputs": [
        {
          "output_type": "stream",
          "text": [
            "    *  \r\n",
            "   *  *  \r\n",
            "  *  *  *  \r\n",
            " *  *  *  *  \r\n",
            "*  *  *  *  *  \r\n"
          ],
          "name": "stdout"
        }
      ]
    },
    {
      "cell_type": "code",
      "metadata": {
        "colab": {
          "base_uri": "https://localhost:8080/"
        },
        "id": "VoxiIfA-DqMH",
        "outputId": "b0876b50-1b7f-47fa-ec92-d1ff1b677eb2"
      },
      "source": [
        "k=n-1\n",
        "for i in range (0,n):\n",
        "  for j in range (0,k):\n",
        "    print(end=\"\")\n",
        "  k=k-1\n",
        "  for j in range (0,i+1):\n",
        "    print(\"* \", end=\" \")\n",
        "  print(\"\\r\")\n",
        "n=5"
      ],
      "execution_count": 13,
      "outputs": [
        {
          "output_type": "stream",
          "text": [
            "*  \r\n",
            "*  *  \r\n",
            "*  *  *  \r\n",
            "*  *  *  *  \r\n",
            "*  *  *  *  *  \r\n"
          ],
          "name": "stdout"
        }
      ]
    },
    {
      "cell_type": "code",
      "metadata": {
        "colab": {
          "base_uri": "https://localhost:8080/"
        },
        "id": "Fd6Vo2NzDvrh",
        "outputId": "fe373869-bcdb-47ee-bb4f-b31bdbc95821"
      },
      "source": [
        "k=n-1\n",
        "for i in range (0,n):\n",
        "  for j in range (0,k):\n",
        "    print(end=\"\")\n",
        "  k=k-1\n",
        "  for j in range (0,i+1):\n",
        "    print(\"*\", end=\"\")\n",
        "  print(\"\\r\")\n",
        "n=5"
      ],
      "execution_count": 19,
      "outputs": [
        {
          "output_type": "stream",
          "text": [
            "*\r\n",
            "**\r\n",
            "***\r\n",
            "****\r\n",
            "*****\r\n"
          ],
          "name": "stdout"
        }
      ]
    },
    {
      "cell_type": "code",
      "metadata": {
        "colab": {
          "base_uri": "https://localhost:8080/"
        },
        "id": "Tv3VOsqrEBpw",
        "outputId": "beac470d-bc99-4c24-a963-5725862ab3b5"
      },
      "source": [
        " k=n-1\n",
        "for i in range (0,n):\n",
        "  for j in range (0,k):\n",
        "    print(end=\" \")\n",
        "  k=k-1\n",
        "  for j in range (0,i+1):\n",
        "    print(\"*\", end=\"\")\n",
        "  print(\"\\r\")\n",
        "n=5"
      ],
      "execution_count": 27,
      "outputs": [
        {
          "output_type": "stream",
          "text": [
            "    *\r\n",
            "   **\r\n",
            "  ***\r\n",
            " ****\r\n",
            "*****\r\n"
          ],
          "name": "stdout"
        }
      ]
    },
    {
      "cell_type": "code",
      "metadata": {
        "colab": {
          "base_uri": "https://localhost:8080/"
        },
        "id": "mw8b9_9CF3as",
        "outputId": "273c0f37-3b42-4893-fe05-19376c01e97d"
      },
      "source": [
        "a=1\n",
        "n=5\n",
        "for i in range (0,n):\n",
        "  for j in range (0,i+1):\n",
        "    print (a,end=\" \")\n",
        "    a+=1\n",
        "  print (\"\\n\")"
      ],
      "execution_count": 31,
      "outputs": [
        {
          "output_type": "stream",
          "text": [
            "1 \n",
            "\n",
            "2 3 \n",
            "\n",
            "4 5 6 \n",
            "\n",
            "7 8 9 10 \n",
            "\n",
            "11 12 13 14 15 \n",
            "\n"
          ],
          "name": "stdout"
        }
      ]
    },
    {
      "cell_type": "code",
      "metadata": {
        "colab": {
          "base_uri": "https://localhost:8080/"
        },
        "id": "VT04uMwBGoYg",
        "outputId": "19d153e0-73c3-4234-eedc-102181dbc5c8"
      },
      "source": [
        "a=1\n",
        "n=5\n",
        "for i in range (0,n):\n",
        "  for j in range (0,i+1):\n",
        "    print (a,end=\" \")\n",
        "  a+=1\n",
        "  print (\"\\n\")"
      ],
      "execution_count": 33,
      "outputs": [
        {
          "output_type": "stream",
          "text": [
            "1 \n",
            "\n",
            "2 2 \n",
            "\n",
            "3 3 3 \n",
            "\n",
            "4 4 4 4 \n",
            "\n",
            "5 5 5 5 5 \n",
            "\n"
          ],
          "name": "stdout"
        }
      ]
    },
    {
      "cell_type": "code",
      "metadata": {
        "colab": {
          "base_uri": "https://localhost:8080/"
        },
        "id": "NDmbPnnPGxZA",
        "outputId": "b44408cd-abe4-4d66-b13a-790224fe7593"
      },
      "source": [
        "a=1\n",
        "n=5\n",
        "for i in range (0,n):  \n",
        "  a=1\n",
        "  for j in range (0,i+1):\n",
        "    print (a,end=\" \")\n",
        "    a+=1\n",
        "  print (\"\\n\")"
      ],
      "execution_count": 35,
      "outputs": [
        {
          "output_type": "stream",
          "text": [
            "1 \n",
            "\n",
            "1 2 \n",
            "\n",
            "1 2 3 \n",
            "\n",
            "1 2 3 4 \n",
            "\n",
            "1 2 3 4 5 \n",
            "\n"
          ],
          "name": "stdout"
        }
      ]
    },
    {
      "cell_type": "code",
      "metadata": {
        "colab": {
          "base_uri": "https://localhost:8080/"
        },
        "id": "e46PMtAsG6-x",
        "outputId": "5274f1a3-1cde-4bcf-830b-dd18e6935322"
      },
      "source": [
        "a=1\n",
        "n=5\n",
        "for i in range (0,n):  \n",
        "  a=1\n",
        "  for j in range (0,i+1):\n",
        "    print (a,end=\"\")\n",
        "    a+=1\n",
        "  print (\" \")"
      ],
      "execution_count": 39,
      "outputs": [
        {
          "output_type": "stream",
          "text": [
            "1 \n",
            "12 \n",
            "123 \n",
            "1234 \n",
            "12345 \n"
          ],
          "name": "stdout"
        }
      ]
    },
    {
      "cell_type": "code",
      "metadata": {
        "colab": {
          "base_uri": "https://localhost:8080/"
        },
        "id": "5RXazFBwJRyx",
        "outputId": "6d30500e-3e0a-4190-e5a4-eaa760514237"
      },
      "source": [
        "a=65\n",
        "n=5\n",
        "for i in range (0,n):  \n",
        "  for j in range (0,i+1):\n",
        "    c=chr(a)\n",
        "    print (c,end=\" \")\n",
        "    a+=1\n",
        "  print (\"\")"
      ],
      "execution_count": 46,
      "outputs": [
        {
          "output_type": "stream",
          "text": [
            "A \n",
            "B C \n",
            "D E F \n",
            "G H I J \n",
            "K L M N O \n"
          ],
          "name": "stdout"
        }
      ]
    },
    {
      "cell_type": "code",
      "metadata": {
        "colab": {
          "base_uri": "https://localhost:8080/"
        },
        "id": "R9S5HWpJJ7tc",
        "outputId": "afb9c134-e0e4-45ba-a717-8b8a65afcc8d"
      },
      "source": [
        "a=65\n",
        "n=5\n",
        "for i in range (0,n):\n",
        "  a=65  \n",
        "  for j in range (0,i+1):\n",
        "    c=chr(a)\n",
        "    print (c,end=\" \")\n",
        "    a+=1\n",
        "  print (\"\")"
      ],
      "execution_count": 49,
      "outputs": [
        {
          "output_type": "stream",
          "text": [
            "A \n",
            "A B \n",
            "A B C \n",
            "A B C D \n",
            "A B C D E \n"
          ],
          "name": "stdout"
        }
      ]
    }
  ]
}