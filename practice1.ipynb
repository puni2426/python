{
  "nbformat": 4,
  "nbformat_minor": 0,
  "metadata": {
    "colab": {
      "name": "Untitled1.ipynb",
      "provenance": [],
      "collapsed_sections": [],
      "authorship_tag": "ABX9TyMiZWGAN8SEjFYAJYnygwMN",
      "include_colab_link": true
    },
    "kernelspec": {
      "name": "python3",
      "display_name": "Python 3"
    }
  },
  "cells": [
    {
      "cell_type": "markdown",
      "metadata": {
        "id": "view-in-github",
        "colab_type": "text"
      },
      "source": [
        "<a href=\"https://colab.research.google.com/github/puni2426/python/blob/main/practice1.ipynb\" target=\"_parent\"><img src=\"https://colab.research.google.com/assets/colab-badge.svg\" alt=\"Open In Colab\"/></a>"
      ]
    },
    {
      "cell_type": "markdown",
      "metadata": {
        "id": "XO29zfy_T878"
      },
      "source": [
        "Factorial of a number"
      ]
    },
    {
      "cell_type": "code",
      "metadata": {
        "colab": {
          "base_uri": "https://localhost:8080/"
        },
        "id": "L2EaYOPcQ5gr",
        "outputId": "9b21abc8-88d3-4ee4-ad7e-dbf1c9ce52c0"
      },
      "source": [
        "def f(n):\n",
        "  if n==0:\n",
        "    return 1\n",
        "  elif n==1:\n",
        "    return 1\n",
        "  else:\n",
        "    return n*f(n-1)\n",
        "n=5\n",
        "x=f(n)\n",
        "print(x)"
      ],
      "execution_count": null,
      "outputs": [
        {
          "output_type": "stream",
          "text": [
            "120\n"
          ],
          "name": "stdout"
        }
      ]
    },
    {
      "cell_type": "code",
      "metadata": {
        "colab": {
          "base_uri": "https://localhost:8080/"
        },
        "id": "c5azuZACRayx",
        "outputId": "727a35ad-ea82-4cf9-cd8c-6bbb35db867c"
      },
      "source": [
        "import random\n",
        "def f(n):\n",
        "  if n==0:\n",
        "    return 1\n",
        "  elif n==1:\n",
        "    return 1\n",
        "  else:\n",
        "    return n*f(n-1)\n",
        "n=random.randint(2,100)\n",
        "x=f(n)\n",
        "print(\"The factorial of\",n,\"is:\",x)"
      ],
      "execution_count": null,
      "outputs": [
        {
          "output_type": "stream",
          "text": [
            "The factorial of 46 is: 5502622159812088949850305428800254892961651752960000000000\n"
          ],
          "name": "stdout"
        }
      ]
    },
    {
      "cell_type": "markdown",
      "metadata": {
        "id": "NCdKCHR4clvO"
      },
      "source": [
        "__<h1>Class & Object concept</h1>__"
      ]
    },
    {
      "cell_type": "markdown",
      "metadata": {
        "id": "8bsVKLF9XOfB"
      },
      "source": [
        "Operator overloading example"
      ]
    },
    {
      "cell_type": "code",
      "metadata": {
        "colab": {
          "base_uri": "https://localhost:8080/"
        },
        "id": "Uc6f6_XpXM4C",
        "outputId": "32e1eb4e-54c3-49ed-ce68-e07d7358402a"
      },
      "source": [
        " \n",
        "class A: \n",
        "    def __init__(self, a): \n",
        "        self.a = a \n",
        "    def __add__(self, o): \n",
        "        return self.a + o.a  \n",
        " \n",
        "ob1 = A(1) \n",
        " \n",
        "ob2 = A(2) \n",
        " \n",
        "ob3 = A(\"Python\") \n",
        " \n",
        "ob4 = A(\"Program\") \n",
        " \n",
        "print(ob1 + ob2) \n",
        " \n",
        "print(ob3 + ob4)"
      ],
      "execution_count": null,
      "outputs": [
        {
          "output_type": "stream",
          "text": [
            "3\n",
            "PythonProgram\n"
          ],
          "name": "stdout"
        }
      ]
    },
    {
      "cell_type": "markdown",
      "metadata": {
        "id": "DFf4bBrZaw_N"
      },
      "source": [
        "__init__"
      ]
    },
    {
      "cell_type": "code",
      "metadata": {
        "colab": {
          "base_uri": "https://localhost:8080/"
        },
        "id": "wsF8r2uVawYb",
        "outputId": "01ad1af8-3cd8-49d7-90c5-4319eeda3baf"
      },
      "source": [
        " \n",
        "class Person:   \n",
        "    \n",
        "    def __init__(self, name):   \n",
        "        self.name = name   \n",
        " \n",
        "    def display(self):   \n",
        "        print('Hello, my name is', self.name)   \n",
        " \n",
        "p = Person('xyz')   \n",
        "p.display()"
      ],
      "execution_count": null,
      "outputs": [
        {
          "output_type": "stream",
          "text": [
            "Hello, my name is xyz\n"
          ],
          "name": "stdout"
        }
      ]
    },
    {
      "cell_type": "markdown",
      "metadata": {
        "id": "btNo9PDjbozh"
      },
      "source": [
        "__str__"
      ]
    },
    {
      "cell_type": "code",
      "metadata": {
        "colab": {
          "base_uri": "https://localhost:8080/"
        },
        "id": "_DA7zNXebpIf",
        "outputId": "f18b8759-92fe-4881-ee75-6e241606eea6"
      },
      "source": [
        " class Time:\n",
        "     def __init__(self, hour=0, minute=0, second=0):\n",
        "         self.hour = hour\n",
        "         self.minute = minute\n",
        "         self.second = second\n",
        "         \n",
        "     def __str__(self):\n",
        "         return '%.2d:%.2d:%.2d' % (self.hour, self.minute, self.second)\n",
        " \n",
        " time1 = Time(9,45,25)\n",
        " print(time1)"
      ],
      "execution_count": null,
      "outputs": [
        {
          "output_type": "stream",
          "text": [
            "09:45:25\n"
          ],
          "name": "stdout"
        }
      ]
    },
    {
      "cell_type": "markdown",
      "metadata": {
        "id": "m57fuhR9zYnj"
      },
      "source": [
        " Write a python program that uses datetime module within a class , takes a birthday as input \n",
        "and prints user’s age and the number of days, hours ,minutes and seconds until their next \n",
        "birthday."
      ]
    },
    {
      "cell_type": "code",
      "metadata": {
        "colab": {
          "base_uri": "https://localhost:8080/"
        },
        "id": "4bXfm_tMzXw-",
        "outputId": "de585f4f-4086-448f-ab98-4a7b48e20f09"
      },
      "source": [
        " import datetime\n",
        " \n",
        "class Time:\n",
        "    now = datetime.datetime.now()\n",
        " \n",
        "    def __init__(self, year=1, month=1, day=1, hour=0, minute=0, second=0):\n",
        "        self.date = datetime.datetime(year, month, day, hour, minute, second)\n",
        " \n",
        "today = Time().now\n",
        "birthday = Time(2018, 1, 26).date\n",
        " \n",
        " \n",
        "def birthday_stats(birthday):\n",
        "    age = today.year - birthday.year\n",
        "    if (birthday.month == today.month) and (birthday.day <= today.day):\n",
        "        pass\n",
        "    elif birthday.month < today.month:\n",
        "        pass\n",
        "    else:\n",
        "        age -= 1\n",
        "    birthday_ = Time(today.year, birthday.month, birthday.day).date\n",
        "    till_birthday = str(birthday_ - today).split()\n",
        "    if len(till_birthday) > 1:\n",
        "        days = int(till_birthday[0])\n",
        "    else:\n",
        "        days = 365\n",
        "    time = till_birthday[2].split(\":\")\n",
        "    hours = time[0]\n",
        "    mins = time[1]\n",
        "    secs = time[2][:2]\n",
        "    if (days < 0) and (days != 365):\n",
        "        days = 365 + days\n",
        "    elif (days == 365):\n",
        "        days = 0\n",
        "    else:\n",
        "        days = abs(days)\n",
        "    print (\"You are %s years old; %sd:%sh:%sm:%ss until your next birthday.\" % (age, days, hours, mins, secs))\n",
        "birthday_stats(birthday)"
      ],
      "execution_count": null,
      "outputs": [
        {
          "output_type": "stream",
          "text": [
            "You are 3 years old; 331d:2h:51m:09s until your next birthday.\n"
          ],
          "name": "stdout"
        }
      ]
    },
    {
      "cell_type": "code",
      "metadata": {
        "colab": {
          "base_uri": "https://localhost:8080/"
        },
        "id": "cqGrFUSvec1S",
        "outputId": "a1f2c908-3c30-430f-c2e7-6ed1bb0e2f62"
      },
      "source": [
        "import datetime\n",
        "print (datetime.datetime.now())"
      ],
      "execution_count": null,
      "outputs": [
        {
          "output_type": "stream",
          "text": [
            "2021-02-28 21:10:35.691889\n"
          ],
          "name": "stdout"
        }
      ]
    },
    {
      "cell_type": "code",
      "metadata": {
        "colab": {
          "base_uri": "https://localhost:8080/"
        },
        "id": "V2PzouqBevE1",
        "outputId": "40880854-3719-4ae6-9bc8-f1798ae621b4"
      },
      "source": [
        " import datetime\n",
        "print (datetime.datetime.today())"
      ],
      "execution_count": null,
      "outputs": [
        {
          "output_type": "stream",
          "text": [
            "2021-02-28 21:11:16.303059\n"
          ],
          "name": "stdout"
        }
      ]
    },
    {
      "cell_type": "code",
      "metadata": {
        "colab": {
          "base_uri": "https://localhost:8080/"
        },
        "id": "c-hI4Z1ze375",
        "outputId": "bde43e0c-c987-41a8-f882-9a0336eda7ab"
      },
      "source": [
        "from datetime import date\n",
        "print (date.today())"
      ],
      "execution_count": null,
      "outputs": [
        {
          "output_type": "stream",
          "text": [
            "2021-02-28\n"
          ],
          "name": "stdout"
        }
      ]
    },
    {
      "cell_type": "code",
      "metadata": {
        "colab": {
          "base_uri": "https://localhost:8080/"
        },
        "id": "yqailYdSfBkh",
        "outputId": "7c729e74-f016-4e7e-8faf-919da869961c"
      },
      "source": [
        " from datetime import date\n",
        "X=date.today()\n",
        "print (X)"
      ],
      "execution_count": null,
      "outputs": [
        {
          "output_type": "stream",
          "text": [
            "2021-02-28\n"
          ],
          "name": "stdout"
        }
      ]
    },
    {
      "cell_type": "code",
      "metadata": {
        "colab": {
          "base_uri": "https://localhost:8080/"
        },
        "id": "gb4qIUcCffjh",
        "outputId": "ef8c7763-48f2-4c5d-8c2b-b2b3f9a0bc45"
      },
      "source": [
        "import datetime\n",
        "class Time:\n",
        "    now = datetime.datetime.now()\n",
        " \n",
        "    def __init__(self, year=1, month=1, day=1, hour=0, minute=0, second=0):\n",
        "        self.date = datetime.datetime(year, month, day, hour, minute, second)\n",
        " \n",
        "today = Time().now\n",
        "birthday = Time(2018, 1, 26).date\n",
        "X=str(today.year-birthday.year)\n",
        "print (X)"
      ],
      "execution_count": null,
      "outputs": [
        {
          "output_type": "stream",
          "text": [
            "3\n"
          ],
          "name": "stdout"
        }
      ]
    },
    {
      "cell_type": "markdown",
      "metadata": {
        "id": "ZgV4GShCv1_v"
      },
      "source": [
        " Demonstrate polymorphism with function to find histogram to count \n",
        "the number of times each letter appears in a word and in a sentence."
      ]
    },
    {
      "cell_type": "code",
      "metadata": {
        "colab": {
          "base_uri": "https://localhost:8080/"
        },
        "id": "6wgU0uvkuu3Y",
        "outputId": "b34293a7-96a5-490f-bee4-d07d7a69afe1"
      },
      "source": [
        " \n",
        "def histogram(s):\n",
        " \n",
        "  d= dict()\n",
        " \n",
        "  for c in s:\n",
        " \n",
        "    if c not in d:\n",
        " \n",
        "      d[c]= 1\n",
        " \n",
        "    else:\n",
        " \n",
        "      d[c] = d[c]+1\n",
        " \n",
        "  return d\n",
        " \n",
        "data = input(\"Enter the string: \")\n",
        " \n",
        "dic = histogram(data)\n",
        " \n",
        "print(\" The frequency of letters are \")\n",
        " \n",
        "for i in dic:\n",
        " \n",
        "  print(i, dic[i])"
      ],
      "execution_count": null,
      "outputs": [
        {
          "output_type": "stream",
          "text": [
            "Enter the string: I am legend\n",
            " The frequency of letters are \n",
            "I 1\n",
            "  2\n",
            "a 1\n",
            "m 1\n",
            "l 1\n",
            "e 2\n",
            "g 1\n",
            "n 1\n",
            "d 1\n"
          ],
          "name": "stdout"
        }
      ]
    },
    {
      "cell_type": "code",
      "metadata": {
        "colab": {
          "base_uri": "https://localhost:8080/"
        },
        "id": "pXn--gsLwjo1",
        "outputId": "9ef5fea4-e513-4161-eac9-f67eb69b2df9"
      },
      "source": [
        " \n",
        "def histogram(s):\n",
        " \n",
        "  d= dict()\n",
        " \n",
        "  for c in s:\n",
        " \n",
        "    if c not in d:\n",
        " \n",
        "      d[c]= 1\n",
        " \n",
        "    else:\n",
        " \n",
        "      d[c] = d[c]+1\n",
        " \n",
        "  return d\n",
        " \n",
        "data =[1,2,3,1,1]\n",
        " \n",
        "dic = histogram(data)\n",
        " \n",
        "print(\" The frequency of letters are \")\n",
        "for i in dic:\n",
        " \n",
        "  print(i,dic[i])"
      ],
      "execution_count": null,
      "outputs": [
        {
          "output_type": "stream",
          "text": [
            " The frequency of letters are \n",
            "1 3\n",
            "2 1\n",
            "3 1\n"
          ],
          "name": "stdout"
        }
      ]
    },
    {
      "cell_type": "code",
      "metadata": {
        "colab": {
          "base_uri": "https://localhost:8080/"
        },
        "id": "7ChlxL95HPPN",
        "outputId": "0dc294b8-0410-44a7-ab92-cef25fde84ab"
      },
      "source": [
        "s=\"A\"\n",
        "print (ord(s))"
      ],
      "execution_count": null,
      "outputs": [
        {
          "output_type": "stream",
          "text": [
            "65\n"
          ],
          "name": "stdout"
        }
      ]
    },
    {
      "cell_type": "code",
      "metadata": {
        "colab": {
          "base_uri": "https://localhost:8080/"
        },
        "id": "rs6_GqnWHhFZ",
        "outputId": "7869d049-18d5-416b-8b21-01f95f31b3b1"
      },
      "source": [
        "s=\"a\"\n",
        "x=ord(s)\n",
        "k=3\n",
        "print(chr(x+k))"
      ],
      "execution_count": null,
      "outputs": [
        {
          "output_type": "stream",
          "text": [
            "d\n"
          ],
          "name": "stdout"
        }
      ]
    },
    {
      "cell_type": "markdown",
      "metadata": {
        "id": "vn-Tk6dITbz4"
      },
      "source": [
        "Permutation and combination"
      ]
    },
    {
      "cell_type": "code",
      "metadata": {
        "colab": {
          "base_uri": "https://localhost:8080/"
        },
        "id": "fC1KU7zjpcJD",
        "outputId": "43dbade1-b3d8-444b-be0b-863086b31d07"
      },
      "source": [
        "def f(a):\n",
        "  f=1\n",
        "  while a!=0:\n",
        "    f*=a\n",
        "    a-=1\n",
        "  return f\n",
        "n=int(input ())\n",
        "r=int(input ())\n",
        "per=f(n)/(f(n-r)*f(r))\n",
        "print (\"permutation of number is \",per)\n",
        "com=f(n)/f(n-r)\n",
        "print (\"combination of number is \",com)"
      ],
      "execution_count": 4,
      "outputs": [
        {
          "output_type": "stream",
          "text": [
            "4\n",
            "2\n",
            "permutation of number is  6.0\n",
            "combination of number is  12.0\n"
          ],
          "name": "stdout"
        }
      ]
    }
  ]
}