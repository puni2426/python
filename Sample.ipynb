{
  "nbformat": 4,
  "nbformat_minor": 0,
  "metadata": {
    "colab": {
      "name": "Sample.ipynb",
      "provenance": [],
      "collapsed_sections": [],
      "authorship_tag": "ABX9TyPjobQh/vmGvWKGC0lckhL4",
      "include_colab_link": true
    },
    "kernelspec": {
      "name": "python3",
      "display_name": "Python 3"
    }
  },
  "cells": [
    {
      "cell_type": "markdown",
      "metadata": {
        "id": "view-in-github",
        "colab_type": "text"
      },
      "source": [
        "<a href=\"https://colab.research.google.com/github/puni2426/python/blob/main/Sample.ipynb\" target=\"_parent\"><img src=\"https://colab.research.google.com/assets/colab-badge.svg\" alt=\"Open In Colab\"/></a>"
      ]
    },
    {
      "cell_type": "markdown",
      "metadata": {
        "id": "Hx2lRPECZoXk"
      },
      "source": [
        "List"
      ]
    },
    {
      "cell_type": "code",
      "metadata": {
        "id": "lcRUpLLRV02l",
        "colab": {
          "base_uri": "https://localhost:8080/"
        },
        "outputId": "7b108e94-c7ee-44f3-ad8b-25bb83c9929c"
      },
      "source": [
        "L=[1,9,2,6,8,3,4,5]\n",
        "#l=len(L)\n",
        "l1={0}\n",
        "#L.reversed()\n",
        "print(all(L))\n",
        "print(all(l1))\n",
        "#print(len(L))"
      ],
      "execution_count": null,
      "outputs": [
        {
          "output_type": "stream",
          "text": [
            "True\n",
            "False\n"
          ],
          "name": "stdout"
        }
      ]
    },
    {
      "cell_type": "code",
      "metadata": {
        "id": "nAhzSSBUixGS",
        "colab": {
          "base_uri": "https://localhost:8080/"
        },
        "outputId": "bb7b16e8-8ab4-4aeb-e56e-b4cf9bb26c53"
      },
      "source": [
        "t=(1,2,3,4)\n",
        "t=t+(5,)\n",
        "print(t)"
      ],
      "execution_count": null,
      "outputs": [
        {
          "output_type": "stream",
          "text": [
            "(1, 2, 3, 4, 5)\n"
          ],
          "name": "stdout"
        }
      ]
    },
    {
      "cell_type": "code",
      "metadata": {
        "id": "8NvpvLG8jNe0",
        "colab": {
          "base_uri": "https://localhost:8080/"
        },
        "outputId": "792ce112-91ae-4c53-8da6-c9ccbd3247cd"
      },
      "source": [
        "s=\"puni\"\n",
        "for i in s:\n",
        "  print(i,end=\"\")"
      ],
      "execution_count": 2,
      "outputs": [
        {
          "output_type": "stream",
          "text": [
            "puni"
          ],
          "name": "stdout"
        }
      ]
    },
    {
      "cell_type": "code",
      "metadata": {
        "colab": {
          "base_uri": "https://localhost:8080/"
        },
        "id": "eQa5UlmwvNeQ",
        "outputId": "0ab38b89-a70d-494a-a6fa-b1b9992cee39"
      },
      "source": [
        " s=\"puni\"\n",
        "for i in s:\n",
        "  print(i)"
      ],
      "execution_count": 3,
      "outputs": [
        {
          "output_type": "stream",
          "text": [
            "p\n",
            "u\n",
            "n\n",
            "i\n"
          ],
          "name": "stdout"
        }
      ]
    },
    {
      "cell_type": "markdown",
      "metadata": {
        "id": "3K8qokEEZ1cF"
      },
      "source": [
        "Concatenate"
      ]
    },
    {
      "cell_type": "code",
      "metadata": {
        "id": "eE-lpg0LZ8sD",
        "colab": {
          "base_uri": "https://localhost:8080/"
        },
        "outputId": "e0f5fbbf-bcb6-45da-b3d3-3479ae210deb"
      },
      "source": [
        "d1={1:2,2:4,3:6,4:8}\n",
        "d2={5:10}\n",
        "d3={}\n",
        "d4={}\n",
        "for d in (d1,d2):\n",
        "  d3.update(d)\n",
        "#d4=dict(d1,**d2);\n",
        "print(d3)\n",
        "print (d4)"
      ],
      "execution_count": null,
      "outputs": [
        {
          "output_type": "stream",
          "text": [
            "{1: 2, 2: 4, 3: 6, 4: 8, 5: 10}\n",
            "{}\n"
          ],
          "name": "stdout"
        }
      ]
    }
  ]
}