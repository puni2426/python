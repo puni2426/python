{
  "nbformat": 4,
  "nbformat_minor": 0,
  "metadata": {
    "colab": {
      "name": "Practice .ipynb",
      "provenance": [],
      "collapsed_sections": [],
      "authorship_tag": "ABX9TyOeTRtZutel7813eEjf/VHC",
      "include_colab_link": true
    },
    "kernelspec": {
      "name": "python3",
      "display_name": "Python 3"
    }
  },
  "cells": [
    {
      "cell_type": "markdown",
      "metadata": {
        "id": "view-in-github",
        "colab_type": "text"
      },
      "source": [
        "<a href=\"https://colab.research.google.com/github/puni2426/python/blob/main/Practice_.ipynb\" target=\"_parent\"><img src=\"https://colab.research.google.com/assets/colab-badge.svg\" alt=\"Open In Colab\"/></a>"
      ]
    },
    {
      "cell_type": "markdown",
      "metadata": {
        "id": "AY_mdfmr3cGJ"
      },
      "source": [
        "Prime"
      ]
    },
    {
      "cell_type": "code",
      "metadata": {
        "colab": {
          "base_uri": "https://localhost:8080/"
        },
        "id": "bchUJPbU3dN1",
        "outputId": "3f9e8241-abcc-4f8e-e175-3465c5e615d5"
      },
      "source": [
        "def prime(m, n):\n",
        " for num in range(m, n + 1):\n",
        "  if num > 1:\n",
        "   for i in range(2, num):\n",
        "    if (num % i) == 0:\n",
        "     break\n",
        "   else:\n",
        "    print(num,end=\" \")\n",
        "print(\"Enter the range of numbers to find prime numbers\")\n",
        "m = int(input())\n",
        "n = int(input())\n",
        "if m>0 and n>0 and m<n:\n",
        " prime(m, n)\n",
        "else:\n",
        " print(\"Enter the correct values\")"
      ],
      "execution_count": null,
      "outputs": [
        {
          "output_type": "stream",
          "text": [
            "Enter the range of numbers to find prime numbers\n",
            "5\n",
            "100\n",
            "5 7 11 13 17 19 23 29 31 37 41 43 47 53 59 61 67 71 73 79 83 89 97 "
          ],
          "name": "stdout"
        }
      ]
    },
    {
      "cell_type": "code",
      "metadata": {
        "colab": {
          "base_uri": "https://localhost:8080/"
        },
        "id": "3oj5_RKv4aZP",
        "outputId": "07655fa9-e980-4415-8154-5f9de0673593"
      },
      "source": [
        "def calc(x, y):\n",
        "  return x+y, x-y, x*y, x/y\n",
        "print(\"Enter two numbers\")\n",
        "x = int(input())\n",
        "y = int(input())\n",
        "add, sub, mul, div = calc(x, y)\n",
        "print(\"The sum is\", add)\n",
        "print(\"The difference is\", sub)\n",
        "print(\"The product is\", mul)\n",
        "print(\"The quotient is\", div)"
      ],
      "execution_count": null,
      "outputs": [
        {
          "output_type": "stream",
          "text": [
            "Enter two numbers\n",
            "50\n",
            "25\n",
            "The sum is 75\n",
            "The difference is 25\n",
            "The product is 1250\n",
            "The quotient is 2.0\n"
          ],
          "name": "stdout"
        }
      ]
    },
    {
      "cell_type": "code",
      "metadata": {
        "colab": {
          "base_uri": "https://localhost:8080/"
        },
        "id": "AJR9znKJ40FY",
        "outputId": "b0303856-0e6a-498b-bdb5-d6e0c6450bdb"
      },
      "source": [
        "def Count(str): \n",
        " up, low, num, special = 0, 0, 0, 1\n",
        " for i in range(len(str)): \n",
        "  if str[i] >= 'A' and str[i] <= 'Z': \n",
        "    up += 1\n",
        "  elif str[i] >= 'a' and str[i] <= 'z': \n",
        "    low += 1\n",
        "  elif str[i] >= '0' and str[i] <= '9': \n",
        "    num += 1\n",
        "  else: \n",
        "    special += 1\n",
        " print(\"LETTERS :\",up+low,\"DIGITS :\",num,\"UPPERCASE :\",up,\"LOWERCASE :\",low,\"Words:\" ,special) \n",
        "print(\"Enter a sentence\")\n",
        "str = input()\n",
        "Count(str)"
      ],
      "execution_count": null,
      "outputs": [
        {
          "output_type": "stream",
          "text": [
            "Enter a sentence\n",
            "I am Legend in 2K21\n",
            "LETTERS : 12 DIGITS : 3 UPPERCASE : 3 LOWERCASE : 9 Words: 5\n"
          ],
          "name": "stdout"
        }
      ]
    },
    {
      "cell_type": "code",
      "metadata": {
        "colab": {
          "base_uri": "https://localhost:8080/"
        },
        "id": "GkcZa-iJOTYn",
        "outputId": "b68c858f-b6c8-4a4a-cf86-43f32b5cbf36"
      },
      "source": [
        "for i in range(5,0,-1):\n",
        "  print(i,end=\" \")"
      ],
      "execution_count": null,
      "outputs": [
        {
          "output_type": "stream",
          "text": [
            "5 4 3 2 1 "
          ],
          "name": "stdout"
        }
      ]
    },
    {
      "cell_type": "code",
      "metadata": {
        "colab": {
          "base_uri": "https://localhost:8080/"
        },
        "id": "vaTIfX6TPJ6A",
        "outputId": "fdc60495-ca9d-4903-b6ce-8af020b3bcc0"
      },
      "source": [
        " for i in range(0,10,2):\n",
        "  print(i,end=\" \")"
      ],
      "execution_count": null,
      "outputs": [
        {
          "output_type": "stream",
          "text": [
            "0 2 4 6 8 "
          ],
          "name": "stdout"
        }
      ]
    },
    {
      "cell_type": "code",
      "metadata": {
        "colab": {
          "base_uri": "https://localhost:8080/"
        },
        "id": "Zy-MKciuPq74",
        "outputId": "2a31a7ab-5238-4f3b-9dfd-ae3df5a16f89"
      },
      "source": [
        "for i in \"Hello\":\n",
        "  print (i)"
      ],
      "execution_count": null,
      "outputs": [
        {
          "output_type": "stream",
          "text": [
            "H\n",
            "e\n",
            "l\n",
            "l\n",
            "o\n"
          ],
          "name": "stdout"
        }
      ]
    },
    {
      "cell_type": "code",
      "metadata": {
        "colab": {
          "base_uri": "https://localhost:8080/"
        },
        "id": "fp_g4x4tQPt7",
        "outputId": "1063be5f-db6c-402e-b615-cc7aa2d5b1f2"
      },
      "source": [
        "h=\"Hello\"\n",
        "g=h[::-1]\n",
        "for i in g:\n",
        " \n",
        " print (i, end=\"\")"
      ],
      "execution_count": null,
      "outputs": [
        {
          "output_type": "stream",
          "text": [
            "olleH"
          ],
          "name": "stdout"
        }
      ]
    },
    {
      "cell_type": "code",
      "metadata": {
        "colab": {
          "base_uri": "https://localhost:8080/"
        },
        "id": "_aXIs02jRoVn",
        "outputId": "84014aef-e4ac-4c2b-8830-56aa4e74813c"
      },
      "source": [
        " for i in \"Hello\":\n",
        "  print (i, end=\"\")"
      ],
      "execution_count": null,
      "outputs": [
        {
          "output_type": "stream",
          "text": [
            "Hello"
          ],
          "name": "stdout"
        }
      ]
    },
    {
      "cell_type": "code",
      "metadata": {
        "colab": {
          "base_uri": "https://localhost:8080/"
        },
        "id": "wUHLc8PqS5sH",
        "outputId": "84d4c7d9-4450-463b-e58e-0099b4939219"
      },
      "source": [
        "h=\"Hello\"\n",
        "print (h[::-1])"
      ],
      "execution_count": null,
      "outputs": [
        {
          "output_type": "stream",
          "text": [
            "olleH\n"
          ],
          "name": "stdout"
        }
      ]
    },
    {
      "cell_type": "code",
      "metadata": {
        "colab": {
          "base_uri": "https://localhost:8080/"
        },
        "id": "dq3jPsYRnOiO",
        "outputId": "ae5ad1ad-a328-43e9-f145-5b41d1570956"
      },
      "source": [
        "h=[1,2,3,4,5]\n",
        "a=reversed(h)\n",
        "print(a)"
      ],
      "execution_count": null,
      "outputs": [
        {
          "output_type": "stream",
          "text": [
            "<list_reverseiterator object at 0x7f14669816d0>\n"
          ],
          "name": "stdout"
        }
      ]
    },
    {
      "cell_type": "markdown",
      "metadata": {
        "id": "KLPsBbCPYbGN"
      },
      "source": [
        "Fibonacci"
      ]
    },
    {
      "cell_type": "code",
      "metadata": {
        "colab": {
          "base_uri": "https://localhost:8080/"
        },
        "id": "PbNHbdm4dA0r",
        "outputId": "548f8010-de9b-4473-f10c-b6d31446f33b"
      },
      "source": [
        " \n",
        "def fibonacci(n):\n",
        "  if n < 0:\n",
        "    print(\"incorrect input\")\n",
        "  elif n == 1:\n",
        "     return 0\n",
        "  elif n == 2:\n",
        "    return 1\n",
        "  else:\n",
        "    return fibonacci(n-1) + fibonacci(n-2)\n",
        "print(\"Enter the value of N\")\n",
        "n = int(input())\n",
        "if n>0:\n",
        "  x = fibonacci(n)\n",
        "  print(x)"
      ],
      "execution_count": null,
      "outputs": [
        {
          "output_type": "stream",
          "text": [
            "Enter the value of N\n",
            "10\n",
            "34\n"
          ],
          "name": "stdout"
        }
      ]
    },
    {
      "cell_type": "code",
      "metadata": {
        "colab": {
          "base_uri": "https://localhost:8080/"
        },
        "id": "Lzo5NvfJnBnG",
        "outputId": "295befa0-73f2-4d11-8da5-3a07459f64f6"
      },
      "source": [
        "def f(n):\n",
        "  F1=0\n",
        "  f2=1\n",
        "  print (F1,end=\" \")\n",
        "  for i in range(1,n+1):\n",
        "    print (f2,end=\" \")\n",
        "    x=F1+f2\n",
        "    \n",
        "    F1=f2\n",
        "    f2=x\n",
        "f(10)"
      ],
      "execution_count": null,
      "outputs": [
        {
          "output_type": "stream",
          "text": [
            "0 1 1 2 3 5 8 13 21 34 55 "
          ],
          "name": "stdout"
        }
      ]
    },
    {
      "cell_type": "code",
      "metadata": {
        "colab": {
          "base_uri": "https://localhost:8080/"
        },
        "id": "qpKxC7TgzITG",
        "outputId": "1dd82111-cf34-419b-cf6a-7cec4ae22b41"
      },
      "source": [
        "d={'a':1,'b':2}\n",
        " \n",
        "print(d.get('a'))"
      ],
      "execution_count": null,
      "outputs": [
        {
          "output_type": "stream",
          "text": [
            "1\n"
          ],
          "name": "stdout"
        }
      ]
    },
    {
      "cell_type": "code",
      "metadata": {
        "colab": {
          "base_uri": "https://localhost:8080/"
        },
        "id": "-KTg7dDv5GrU",
        "outputId": "86e2456a-a1bd-4075-c0a5-7f6e617d4c76"
      },
      "source": [
        "s=\"sample1234\"\n",
        "a=0\n",
        "for i in s:\n",
        "  if i.isalpha():\n",
        "    a+=1\n",
        "print(a)"
      ],
      "execution_count": null,
      "outputs": [
        {
          "output_type": "stream",
          "text": [
            "6\n"
          ],
          "name": "stdout"
        }
      ]
    },
    {
      "cell_type": "code",
      "metadata": {
        "colab": {
          "base_uri": "https://localhost:8080/"
        },
        "id": "YnIOFnhW67qw",
        "outputId": "9658365f-00a7-459e-d41e-72ee46bb33d1"
      },
      "source": [
        "S=\"SYB\"\n",
        "print(S.isupper())"
      ],
      "execution_count": null,
      "outputs": [
        {
          "output_type": "stream",
          "text": [
            "True\n"
          ],
          "name": "stdout"
        }
      ]
    },
    {
      "cell_type": "code",
      "metadata": {
        "colab": {
          "base_uri": "https://localhost:8080/"
        },
        "id": "NII60Nr279sO",
        "outputId": "123552fc-7805-448d-8ae3-7e90e99103c5"
      },
      "source": [
        "s=\"Swapcase\"\n",
        "print(s.swapcase())"
      ],
      "execution_count": null,
      "outputs": [
        {
          "output_type": "stream",
          "text": [
            "sWAPCASE\n"
          ],
          "name": "stdout"
        }
      ]
    },
    {
      "cell_type": "code",
      "metadata": {
        "colab": {
          "base_uri": "https://localhost:8080/"
        },
        "id": "TPwO2N_F9TKV",
        "outputId": "45be9ddc-f48f-4a3a-f885-1f8c4c7eb4de"
      },
      "source": [
        "S=\"I am legend\"\n",
        "print (S.title())"
      ],
      "execution_count": null,
      "outputs": [
        {
          "output_type": "stream",
          "text": [
            "I Am Legend\n"
          ],
          "name": "stdout"
        }
      ]
    },
    {
      "cell_type": "code",
      "metadata": {
        "colab": {
          "base_uri": "https://localhost:8080/"
        },
        "id": "-c8rPdTA9g_3",
        "outputId": "25515878-a1d5-4005-d060-fb7d5d2d4f4f"
      },
      "source": [
        " S=\"i am legend\"\n",
        "print (S.capitalize())"
      ],
      "execution_count": null,
      "outputs": [
        {
          "output_type": "stream",
          "text": [
            "I am legend\n"
          ],
          "name": "stdout"
        }
      ]
    },
    {
      "cell_type": "code",
      "metadata": {
        "colab": {
          "base_uri": "https://localhost:8080/"
        },
        "id": "KChk-l03C743",
        "outputId": "9bcf4351-050a-4d66-d7a4-d32e613dc4b8"
      },
      "source": [
        "S=\"i am legend\"\n",
        "print(S.upper())"
      ],
      "execution_count": 76,
      "outputs": [
        {
          "output_type": "stream",
          "text": [
            "I AM LEGEND\n"
          ],
          "name": "stdout"
        }
      ]
    },
    {
      "cell_type": "code",
      "metadata": {
        "colab": {
          "base_uri": "https://localhost:8080/"
        },
        "id": "d0fPdYE8DG4K",
        "outputId": "5db7717b-2616-4317-90fc-1c737ebccdec"
      },
      "source": [
        " S=\"i am Legend\"\n",
        "print(S.upper())"
      ],
      "execution_count": 79,
      "outputs": [
        {
          "output_type": "stream",
          "text": [
            "I AM LEGEND\n"
          ],
          "name": "stdout"
        }
      ]
    },
    {
      "cell_type": "code",
      "metadata": {
        "colab": {
          "base_uri": "https://localhost:8080/"
        },
        "id": "wUwEnvlpDP63",
        "outputId": "9e97b0d8-a39d-4f98-8956-a3efcb025f31"
      },
      "source": [
        " S=\"i am legend\"\n",
        "print(S.find('e'))"
      ],
      "execution_count": 82,
      "outputs": [
        {
          "output_type": "stream",
          "text": [
            "6\n"
          ],
          "name": "stdout"
        }
      ]
    },
    {
      "cell_type": "code",
      "metadata": {
        "colab": {
          "base_uri": "https://localhost:8080/"
        },
        "id": "0hFAT-myDc3L",
        "outputId": "3980b9d3-e473-404c-fd97-6ed5966fdaf2"
      },
      "source": [
        " S=\"i am legend\"\n",
        "print(S.split())"
      ],
      "execution_count": 85,
      "outputs": [
        {
          "output_type": "stream",
          "text": [
            "['i', 'am', 'legend']\n"
          ],
          "name": "stdout"
        }
      ]
    },
    {
      "cell_type": "code",
      "metadata": {
        "colab": {
          "base_uri": "https://localhost:8080/"
        },
        "id": "cD70VRxPD3MC",
        "outputId": "989185db-a2b3-4deb-98a1-36573d35b287"
      },
      "source": [
        " S=\"i am legend\"\n",
        "print(S.count('e'))"
      ],
      "execution_count": 93,
      "outputs": [
        {
          "output_type": "stream",
          "text": [
            "2\n"
          ],
          "name": "stdout"
        }
      ]
    },
    {
      "cell_type": "markdown",
      "metadata": {
        "id": "RlUaoQaRFeio"
      },
      "source": [
        "<h1>Tuples</h1>"
      ]
    },
    {
      "cell_type": "markdown",
      "metadata": {
        "id": "deB7HGVsE-93"
      },
      "source": [
        "Inserting"
      ]
    },
    {
      "cell_type": "code",
      "metadata": {
        "colab": {
          "base_uri": "https://localhost:8080/"
        },
        "id": "yfuhmI2MEMav",
        "outputId": "350be1ac-ad44-412f-bfa0-8b62fa78a35a"
      },
      "source": [
        "t=(1,2,3)\n",
        "t=t[:1]+(4,)+t[1:]\n",
        "print(t)"
      ],
      "execution_count": 99,
      "outputs": [
        {
          "output_type": "stream",
          "text": [
            "(1, 4, 2, 3)\n"
          ],
          "name": "stdout"
        }
      ]
    },
    {
      "cell_type": "markdown",
      "metadata": {
        "id": "7sbQ1GtoFLt1"
      },
      "source": [
        "Updating"
      ]
    },
    {
      "cell_type": "code",
      "metadata": {
        "colab": {
          "base_uri": "https://localhost:8080/"
        },
        "id": "dDiBdOnxFI3v",
        "outputId": "ffa1b09f-657a-4c14-a436-ac30215be55e"
      },
      "source": [
        " t=(1,2,3)\n",
        "t=t[:1]+(4,)+t[2:]\n",
        "print(t)"
      ],
      "execution_count": 100,
      "outputs": [
        {
          "output_type": "stream",
          "text": [
            "(1, 4, 3)\n"
          ],
          "name": "stdout"
        }
      ]
    },
    {
      "cell_type": "markdown",
      "metadata": {
        "id": "qwgoZbyGFY00"
      },
      "source": [
        "Deleting"
      ]
    },
    {
      "cell_type": "code",
      "metadata": {
        "colab": {
          "base_uri": "https://localhost:8080/"
        },
        "id": "lJE3YbQyFOiq",
        "outputId": "66ebbdac-02e8-4188-9dde-fecd0f8afeb4"
      },
      "source": [
        " t=(1,2,3)\n",
        "t=t[:1]+t[2:]\n",
        "print(t)"
      ],
      "execution_count": 103,
      "outputs": [
        {
          "output_type": "stream",
          "text": [
            "(1, 3)\n"
          ],
          "name": "stdout"
        }
      ]
    }
  ]
}