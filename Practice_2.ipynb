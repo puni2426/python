{
  "nbformat": 4,
  "nbformat_minor": 0,
  "metadata": {
    "colab": {
      "name": "Practice 2.ipynb",
      "provenance": [],
      "collapsed_sections": [],
      "authorship_tag": "ABX9TyOHQ5wRWsg7uiFu16hzYpMA",
      "include_colab_link": true
    },
    "kernelspec": {
      "name": "python3",
      "display_name": "Python 3"
    }
  },
  "cells": [
    {
      "cell_type": "markdown",
      "metadata": {
        "id": "view-in-github",
        "colab_type": "text"
      },
      "source": [
        "<a href=\"https://colab.research.google.com/github/puni2426/python/blob/main/Practice_2.ipynb\" target=\"_parent\"><img src=\"https://colab.research.google.com/assets/colab-badge.svg\" alt=\"Open In Colab\"/></a>"
      ]
    },
    {
      "cell_type": "code",
      "metadata": {
        "colab": {
          "base_uri": "https://localhost:8080/"
        },
        "id": "HtePyafWWyN8",
        "outputId": "6303fa3a-7145-4102-cf6f-ba09f122927e"
      },
      "source": [
        "ds=\"as ds\"\n",
        "if \"as\"==\"as\":\n",
        "  print(\"Hello world\")"
      ],
      "execution_count": 1,
      "outputs": [
        {
          "output_type": "stream",
          "text": [
            "Hello world\n"
          ],
          "name": "stdout"
        }
      ]
    },
    {
      "cell_type": "code",
      "metadata": {
        "colab": {
          "base_uri": "https://localhost:8080/"
        },
        "id": "DrNdzV7mYbIG",
        "outputId": "5a17abdd-f5ed-42e1-8c7c-df47e87c6dc0"
      },
      "source": [
        " \n",
        "count = 1\n",
        " \n",
        "if count!=0:\n",
        "  count+=1 \n",
        "if count != 1:\n",
        " \n",
        "  count+=1\n",
        " \n",
        " \n",
        " \n",
        "print(count)\n",
        " \n",
        "count = 0"
      ],
      "execution_count": null,
      "outputs": [
        {
          "output_type": "stream",
          "text": [
            "3\n"
          ],
          "name": "stdout"
        }
      ]
    },
    {
      "cell_type": "code",
      "metadata": {
        "colab": {
          "base_uri": "https://localhost:8080/"
        },
        "id": "zySdY3I8ZFqe",
        "outputId": "7e0f34f8-e991-4444-dd1b-38ffa0dab6b6"
      },
      "source": [
        " \n",
        "str=\"SAMPLE\"\n",
        "S=str[::-1]\n",
        "print (S)"
      ],
      "execution_count": null,
      "outputs": [
        {
          "output_type": "stream",
          "text": [
            "ELPMAS\n"
          ],
          "name": "stdout"
        }
      ]
    },
    {
      "cell_type": "code",
      "metadata": {
        "colab": {
          "base_uri": "https://localhost:8080/"
        },
        "id": "10HEl9XOa9Tx",
        "outputId": "0ff9805a-2de8-48bb-9cf6-e9c25e5bd542"
      },
      "source": [
        "a=[\"as\",\"dd\"]\n",
        "for i in a:\n",
        "  print(i,len(i))"
      ],
      "execution_count": null,
      "outputs": [
        {
          "output_type": "stream",
          "text": [
            "as 2\n",
            "dd 2\n"
          ],
          "name": "stdout"
        }
      ]
    },
    {
      "cell_type": "code",
      "metadata": {
        "colab": {
          "base_uri": "https://localhost:8080/"
        },
        "id": "mZ4xFvqRdV1m",
        "outputId": "172865a2-4840-4ca3-9abe-c13f4fbf6cbb"
      },
      "source": [
        "for I in range(1,10):\n",
        "  print (10+(I*I))"
      ],
      "execution_count": null,
      "outputs": [
        {
          "output_type": "stream",
          "text": [
            "11\n",
            "14\n",
            "19\n",
            "26\n",
            "35\n",
            "46\n",
            "59\n",
            "74\n",
            "91\n"
          ],
          "name": "stdout"
        }
      ]
    },
    {
      "cell_type": "markdown",
      "metadata": {
        "id": "2v8OX64drpnb"
      },
      "source": [
        "Qno 4"
      ]
    },
    {
      "cell_type": "code",
      "metadata": {
        "colab": {
          "base_uri": "https://localhost:8080/"
        },
        "id": "vf01pawhrZW_",
        "outputId": "f25db958-586b-438b-eb6d-e1d2396d0ed4"
      },
      "source": [
        " \n",
        "import datetime\n",
        " \n",
        "class Time:\n",
        "    now = datetime.datetime.now()\n",
        " \n",
        "    def __init__(self, year=1, month=1, day=1, hour=0, minute=0, second=0):\n",
        "        self.date = datetime.datetime(year, month, day, hour, minute, second)\n",
        " \n",
        "today = Time().now\n",
        "birthday = Time(2018, 1, 26).date\n",
        " \n",
        " \n",
        "def birthday_stats(birthday):\n",
        "    age = today.year - birthday.year\n",
        "    if (birthday.month == today.month) and (birthday.day <= today.day):\n",
        "        pass\n",
        "    elif birthday.month < today.month:\n",
        "        pass\n",
        "    else:\n",
        "        age -= 1\n",
        "    birthday_ = Time(today.year, birthday.month, birthday.day).date\n",
        "    till_birthday = str(birthday_ - today).split()\n",
        "    if len(till_birthday) > 1:\n",
        "        days = int(till_birthday[0])\n",
        "    else:\n",
        "        days = 365\n",
        "    time = till_birthday[2].split(\":\")\n",
        "    hours = time[0]\n",
        "    mins = time[1]\n",
        "    secs = time[2][:2]\n",
        "    if (days < 0) and (days != 365):\n",
        "        days = 365 + days\n",
        "    elif (days == 365):\n",
        "        days = 0\n",
        "    else:\n",
        "        days = abs(days)\n",
        "    print (\"You are %s years old; %sd:%sh:%sm:%ss until your next birthday.\" % (age, days, hours, mins, secs))\n",
        "birthday_stats(birthday)"
      ],
      "execution_count": null,
      "outputs": [
        {
          "output_type": "stream",
          "text": [
            "You are 2 years old; 10d:7h:18m:28s until your next birthday.\n"
          ],
          "name": "stdout"
        }
      ]
    },
    {
      "cell_type": "markdown",
      "metadata": {
        "id": "_1gkJGWsrujZ"
      },
      "source": [
        "Qno 3"
      ]
    },
    {
      "cell_type": "code",
      "metadata": {
        "colab": {
          "base_uri": "https://localhost:8080/"
        },
        "id": "7rocTQqRrwnH",
        "outputId": "c1452602-f6cb-4da4-b067-7dc4d4e685b9"
      },
      "source": [
        " \n",
        "class point:\n",
        "    x=0\n",
        "    y=0\n",
        " \n",
        "    def reflex_x(self):  # to find reflex of midpoint\n",
        "        x = self.x\n",
        "        y = -self.y\n",
        "        return \"reflex_x point is: (%d,%d)\" %(x,y)\n",
        " \n",
        "p1=point()\n",
        "p2=point()\n",
        "p1.x=10\n",
        "p1.y=12\n",
        "p2.x=8\n",
        "p2.y=6\n",
        "p3 = point()\n",
        "def midp(p1,p2):  #to find midpoint\n",
        "    p3.x=(p1.x+p2.x)/2\n",
        "    p3.y=(p1.y+p2.y)/2\n",
        "    return p3\n",
        " \n",
        "z=midp(p1,p2)\n",
        "print(\"mid point of p1 and p2 is :(%d,%d)\" %(z.x,z.y))\n",
        " \n",
        "print(p3.reflex_x())"
      ],
      "execution_count": null,
      "outputs": [
        {
          "output_type": "stream",
          "text": [
            "mid point of p1 and p2 is :(9,9)\n",
            "reflex_x point is: (9,-9)\n"
          ],
          "name": "stdout"
        }
      ]
    }
  ]
}