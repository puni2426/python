{
  "nbformat": 4,
  "nbformat_minor": 0,
  "metadata": {
    "colab": {
      "name": "Practice 1.ipynb",
      "provenance": [],
      "collapsed_sections": [],
      "authorship_tag": "ABX9TyMnYR09tWPlNKIlt5mCQvgq",
      "include_colab_link": true
    },
    "kernelspec": {
      "display_name": "Python 3",
      "name": "python3"
    }
  },
  "cells": [
    {
      "cell_type": "markdown",
      "metadata": {
        "id": "view-in-github",
        "colab_type": "text"
      },
      "source": [
        "<a href=\"https://colab.research.google.com/github/puni2426/python/blob/main/Practice_1.ipynb\" target=\"_parent\"><img src=\"https://colab.research.google.com/assets/colab-badge.svg\" alt=\"Open In Colab\"/></a>"
      ]
    },
    {
      "cell_type": "code",
      "metadata": {
        "colab": {
          "base_uri": "https://localhost:8080/"
        },
        "id": "ndVDzUu_hpAT",
        "outputId": "9a62bb34-05f6-4e2a-9024-6ecf5ad538ea"
      },
      "source": [
        "5l=int(input(\"Enter length\\t\"))\n",
        "b=int(input(\"Enter breath\\t\"))\n",
        "r=int(input(\"Enter radius\\t\"))\n",
        "sq=l*l\n",
        "rec=l*b\n",
        "c=3.14*r*r\n",
        "print(\"Square\",sq)\n",
        "print(\"Rectangle\",rec)\n",
        "print(\"Circle\",c)"
      ],
      "execution_count": null,
      "outputs": [
        {
          "output_type": "stream",
          "text": [
            "Enter length\t2\n",
            "Enter breath\t4\n",
            "Enter radius\t5\n",
            "Square 4\n",
            "Rectangle 8\n",
            "Circle 78.5\n"
          ],
          "name": "stdout"
        }
      ]
    },
    {
      "cell_type": "code",
      "metadata": {
        "colab": {
          "base_uri": "https://localhost:8080/"
        },
        "id": "2HTb1Gq4kHy5",
        "outputId": "f8fdac49-eb42-4536-e102-e719f703052a"
      },
      "source": [
        "x=\"java\"\n",
        "print(x.upper())"
      ],
      "execution_count": null,
      "outputs": [
        {
          "output_type": "stream",
          "text": [
            "JAVA\n"
          ],
          "name": "stdout"
        }
      ]
    },
    {
      "cell_type": "code",
      "metadata": {
        "colab": {
          "base_uri": "https://localhost:8080/"
        },
        "id": "sXVTm185lBp4",
        "outputId": "000f1e35-c866-44f5-d804-3c02817c84bd"
      },
      "source": [
        "X=\"java\"\n",
        "y=\"a\"\n",
        "count=0\n",
        "for i in X:\n",
        "  for j in y:\n",
        "    if i==j:\n",
        "      count=count+1\n",
        " \n",
        "print(count)"
      ],
      "execution_count": null,
      "outputs": [
        {
          "output_type": "stream",
          "text": [
            "2\n"
          ],
          "name": "stdout"
        }
      ]
    },
    {
      "cell_type": "markdown",
      "metadata": {
        "id": "VdAtEP_Kx09o"
      },
      "source": [
        " Password Validation"
      ]
    },
    {
      "cell_type": "code",
      "metadata": {
        "colab": {
          "base_uri": "https://localhost:8080/"
        },
        "id": "FAnzG7G-x2Nn",
        "outputId": "41f8ba6d-4833-4139-edab-211553e48162"
      },
      "source": [
        " \n",
        "l=u=p=d = 0\n",
        " \n",
        "s = \"Nan@200\"\n",
        " \n",
        "if (len(s) >= 8): \n",
        " \n",
        "    for i in s: \n",
        " \n",
        "  \n",
        " \n",
        "        # counting lowercase alphabets  \n",
        " \n",
        "        if (i.islower()): \n",
        " \n",
        "            l+=1            \n",
        " \n",
        "  \n",
        " \n",
        "        # counting uppercase alphabets \n",
        " \n",
        "        if (i.isupper()): \n",
        " \n",
        "            u+=1            \n",
        " \n",
        "  \n",
        " \n",
        "        # counting digits \n",
        " \n",
        "        if (i.isdigit()): \n",
        " \n",
        "            d+=1            \n",
        " \n",
        "  \n",
        " \n",
        "        # counting the mentioned special characters \n",
        " \n",
        "        if(i=='@'or i=='$' or i=='_'): \n",
        " \n",
        "            p+=1           \n",
        " \n",
        "if (l>=1 and u>=1 and p>=1 and d>=1 and l+p+u+d==len(s)): \n",
        " \n",
        "    print(\"Valid Password\") \n",
        " \n",
        "else: \n",
        " \n",
        "    print(\"Invalid Password\")"
      ],
      "execution_count": null,
      "outputs": [
        {
          "output_type": "stream",
          "text": [
            "Invalid Password\n"
          ],
          "name": "stdout"
        }
      ]
    },
    {
      "cell_type": "code",
      "metadata": {
        "colab": {
          "base_uri": "https://localhost:8080/"
        },
        "id": "mBw9T2isx52b",
        "outputId": "c8ffb132-66fb-47e8-987c-9e9337c4b55c"
      },
      "source": [
        " \n",
        "l=u=p=d = 0\n",
        " \n",
        "s = \"Nan@200123\"\n",
        " \n",
        "if (len(s) >= 8): \n",
        " \n",
        "    for i in s: \n",
        " \n",
        "  \n",
        " \n",
        "        # counting lowercase alphabets  \n",
        " \n",
        "        if (i.islower()): \n",
        " \n",
        "            l+=1            \n",
        " \n",
        "  \n",
        " \n",
        "        # counting uppercase alphabets \n",
        " \n",
        "        if (i.isupper()): \n",
        " \n",
        "            u+=1            \n",
        " \n",
        "  \n",
        " \n",
        "        # counting digits \n",
        " \n",
        "        if (i.isdigit()): \n",
        " \n",
        "            d+=1            \n",
        " \n",
        "  \n",
        " \n",
        "        # counting the mentioned special characters \n",
        " \n",
        "        if(i=='@'or i=='$' or i=='_'): \n",
        " \n",
        "            p+=1           \n",
        " \n",
        "if (l>=1 and u>=1 and p>=1 and d>=1 and l+p+u+d==len(s)): \n",
        " \n",
        "    print(\"Valid Password\") \n",
        " \n",
        "else: \n",
        " \n",
        "    print(\"Invalid Password\")"
      ],
      "execution_count": null,
      "outputs": [
        {
          "output_type": "stream",
          "text": [
            "Valid Password\n"
          ],
          "name": "stdout"
        }
      ]
    },
    {
      "cell_type": "code",
      "metadata": {
        "colab": {
          "base_uri": "https://localhost:8080/"
        },
        "id": "gsre19Ty3sVY",
        "outputId": "ae74cbff-1c76-4cbc-c554-ed1d8ffefd4f"
      },
      "source": [
        " x=\"java\"\n",
        "print(x.islower())"
      ],
      "execution_count": null,
      "outputs": [
        {
          "output_type": "stream",
          "text": [
            "True\n"
          ],
          "name": "stdout"
        }
      ]
    },
    {
      "cell_type": "code",
      "metadata": {
        "colab": {
          "base_uri": "https://localhost:8080/"
        },
        "id": "tiaZZ3p834EB",
        "outputId": "1df05d4d-fc6c-499d-aa6a-7bbfdcefb2a1"
      },
      "source": [
        "X=\"Python 123 at \"\n",
        "a=0\n",
        "b=0\n",
        "c=0\n",
        "for i in X:\n",
        "  if i.isupper():\n",
        "    a=a+1\n",
        "  elif i.islower():\n",
        "    b=b+1\n",
        "  else:\n",
        "    c=c+1\n",
        "U=a\n",
        "L=b\n",
        "D=c\n",
        "print(\"Number of Upper case characters\",U)\n",
        "print(\"Number of Lower case characters\",L)\n",
        "print(\"Number of Digits\",D)"
      ],
      "execution_count": null,
      "outputs": [
        {
          "output_type": "stream",
          "text": [
            "Number of Upper case characters 1\n",
            "Number of Lower case characters 7\n",
            "Number of Digits 6\n"
          ],
          "name": "stdout"
        }
      ]
    },
    {
      "cell_type": "code",
      "metadata": {
        "colab": {
          "base_uri": "https://localhost:8080/"
        },
        "id": "CyYQuvXf7xJw",
        "outputId": "2a4b9153-876c-485d-8d77-c0841ebd3cf9"
      },
      "source": [
        "X=\"java\"\n",
        "print(X.title())"
      ],
      "execution_count": null,
      "outputs": [
        {
          "output_type": "stream",
          "text": [
            "Java\n"
          ],
          "name": "stdout"
        }
      ]
    },
    {
      "cell_type": "code",
      "metadata": {
        "colab": {
          "base_uri": "https://localhost:8080/"
        },
        "id": "7pnDnbNf8Aai",
        "outputId": "8f568a87-747d-46db-a417-0bab39e07f13"
      },
      "source": [
        " X=\"java\"\n",
        "print(X.istitle())"
      ],
      "execution_count": null,
      "outputs": [
        {
          "output_type": "stream",
          "text": [
            "False\n"
          ],
          "name": "stdout"
        }
      ]
    },
    {
      "cell_type": "code",
      "metadata": {
        "colab": {
          "base_uri": "https://localhost:8080/"
        },
        "id": "v8PcrCKB8YFB",
        "outputId": "b90486c0-6597-449f-8398-b769a16fdd44"
      },
      "source": [
        " \n",
        "a=int(input(\"Enter a value\\t\"))\n",
        "b=int(input(\"Enter b value\\t\"))\n",
        "def cal():\n",
        "  add=a+b\n",
        "  sub=a-b\n",
        "  mult=a*b\n",
        "  div=a/b\n",
        "  print(add)\n",
        "  print(sub)\n",
        "  print(mult)\n",
        "  print(div)\n",
        "cal()"
      ],
      "execution_count": null,
      "outputs": [
        {
          "output_type": "stream",
          "text": [
            "Enter a value\t1\n",
            "Enter b value\t1\n",
            "2\n",
            "0\n",
            "1\n",
            "1.0\n"
          ],
          "name": "stdout"
        }
      ]
    },
    {
      "cell_type": "markdown",
      "metadata": {
        "id": "X5MN_7Z_pYqq"
      },
      "source": [
        "Swap case"
      ]
    },
    {
      "cell_type": "code",
      "metadata": {
        "colab": {
          "base_uri": "https://localhost:8080/"
        },
        "id": "ffBsjBuSpYWh",
        "outputId": "9766d49b-6ded-47dc-9ed4-b1dcc22cc9c3"
      },
      "source": [
        "X=\"Java\"\n",
        "print(X.swapcase())"
      ],
      "execution_count": null,
      "outputs": [
        {
          "output_type": "stream",
          "text": [
            "jAVA\n"
          ],
          "name": "stdout"
        }
      ]
    }
  ]
}