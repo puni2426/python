{
  "nbformat": 4,
  "nbformat_minor": 0,
  "metadata": {
    "colab": {
      "name": "Untitled",
      "provenance": [],
      "collapsed_sections": [],
      "authorship_tag": "ABX9TyOmINHS+AdQ0Xjvm68IPjrD",
      "include_colab_link": true
    },
    "kernelspec": {
      "name": "python3",
      "display_name": "Python 3"
    }
  },
  "cells": [
    {
      "cell_type": "markdown",
      "metadata": {
        "id": "view-in-github",
        "colab_type": "text"
      },
      "source": [
        "<a href=\"https://colab.research.google.com/github/puni2426/python/blob/main/sample2.ipynb\" target=\"_parent\"><img src=\"https://colab.research.google.com/assets/colab-badge.svg\" alt=\"Open In Colab\"/></a>"
      ]
    },
    {
      "cell_type": "markdown",
      "metadata": {
        "id": "gBPkjMkihWv2"
      },
      "source": [
        "Reverse"
      ]
    },
    {
      "cell_type": "code",
      "metadata": {
        "id": "yyODat5lDDSS",
        "colab": {
          "base_uri": "https://localhost:8080/"
        },
        "outputId": "391e59ac-cb46-41be-a90a-c6c98aa516fc"
      },
      "source": [
        "str=input()\n",
        "s=str[::-1]\n",
        "print(s)"
      ],
      "execution_count": null,
      "outputs": [
        {
          "output_type": "stream",
          "text": [
            "Hello\n",
            "olleH\n"
          ],
          "name": "stdout"
        }
      ]
    },
    {
      "cell_type": "markdown",
      "metadata": {
        "id": "ywCMjTHFTSwZ"
      },
      "source": [
        "Expcepion handling"
      ]
    },
    {
      "cell_type": "code",
      "metadata": {
        "colab": {
          "base_uri": "https://localhost:8080/"
        },
        "id": "e3W4ULhRRbQb",
        "outputId": "b7018d88-104b-413f-a683-e048d318bdc6"
      },
      "source": [
        "x=10\n",
        "y=0\n",
        "try:\n",
        "  print(x/y)\n",
        "except ZeroDivisionError :\n",
        "  print(\"Error...! Division by zero error\")"
      ],
      "execution_count": null,
      "outputs": [
        {
          "output_type": "stream",
          "text": [
            "Error...! Division by zero error\n"
          ],
          "name": "stdout"
        }
      ]
    },
    {
      "cell_type": "code",
      "metadata": {
        "colab": {
          "base_uri": "https://localhost:8080/"
        },
        "id": "6qzZ3ZkNTb5M",
        "outputId": "2b13fd5e-3d3c-455e-d583-a54d7f8dcb16"
      },
      "source": [
        " \n",
        "try:\n",
        "  raise NameError('HiHello')\n",
        "except NameError:\n",
        "  print(\"Error....! Please enter proper input\")"
      ],
      "execution_count": null,
      "outputs": [
        {
          "output_type": "stream",
          "text": [
            "Error....! Please enter proper input\n"
          ],
          "name": "stdout"
        }
      ]
    },
    {
      "cell_type": "code",
      "metadata": {
        "colab": {
          "base_uri": "https://localhost:8080/"
        },
        "id": "VMvxFVUbVoCM",
        "outputId": "9829b3ec-b70c-4ece-ccbd-57577114bae5"
      },
      "source": [
        "try:\n",
        "  raise ValueError(13556)\n",
        "except ValueError:\n",
        "  print (\"Error....! value error\")"
      ],
      "execution_count": null,
      "outputs": [
        {
          "output_type": "stream",
          "text": [
            "Error....! value error\n"
          ],
          "name": "stdout"
        }
      ]
    },
    {
      "cell_type": "code",
      "metadata": {
        "colab": {
          "base_uri": "https://localhost:8080/"
        },
        "id": "Fc68xdt5qvLZ",
        "outputId": "66caa128-a4da-4811-9bc5-278f614cd621"
      },
      "source": [
        " \n",
        "print(math.pow(4,5))"
      ],
      "execution_count": null,
      "outputs": [
        {
          "output_type": "stream",
          "text": [
            "1024.0\n"
          ],
          "name": "stdout"
        }
      ]
    },
    {
      "cell_type": "code",
      "metadata": {
        "colab": {
          "base_uri": "https://localhost:8080/"
        },
        "id": "EjpX8hcorI3Z",
        "outputId": "33abf51a-d54c-4bff-9f2e-50d202624bc6"
      },
      "source": [
        "print (math.sqrt(5))"
      ],
      "execution_count": null,
      "outputs": [
        {
          "output_type": "stream",
          "text": [
            "2.23606797749979\n"
          ],
          "name": "stdout"
        }
      ]
    },
    {
      "cell_type": "code",
      "metadata": {
        "colab": {
          "base_uri": "https://localhost:8080/"
        },
        "id": "zVnQ89xPrO7Q",
        "outputId": "8ffd1d43-c698-44e6-aace-a159c4630fcd"
      },
      "source": [
        " print (math.cos(0))"
      ],
      "execution_count": null,
      "outputs": [
        {
          "output_type": "stream",
          "text": [
            "1.0\n"
          ],
          "name": "stdout"
        }
      ]
    },
    {
      "cell_type": "code",
      "metadata": {
        "colab": {
          "base_uri": "https://localhost:8080/"
        },
        "id": "2bZw1zgs1cgE",
        "outputId": "f2fcb53f-2856-44a5-c286-8dfa5182c219"
      },
      "source": [
        "num=int(input ())\n",
        "for n in range (0,num):\n",
        "  if n>1:\n",
        "    for i in range (2,n):\n",
        "      if n%i==0:\n",
        "        break\n",
        "    else:\n",
        "      print (n,end=\" \")"
      ],
      "execution_count": null,
      "outputs": [
        {
          "output_type": "stream",
          "text": [
            "10\n",
            "2 3 5 7 "
          ],
          "name": "stdout"
        }
      ]
    },
    {
      "cell_type": "code",
      "metadata": {
        "colab": {
          "base_uri": "https://localhost:8080/"
        },
        "id": "Ba8byBVt4ajw",
        "outputId": "bde8feb8-d615-4bdc-d106-07978116ac26"
      },
      "source": [
        "import random\n",
        "num=random.randint(0,200)\n",
        "print(\"The random number is:\",num)\n",
        "for n in range (0,num):\n",
        "  if n>1:\n",
        "    for i in range (2,n):\n",
        "      if n%i==0:\n",
        "        break\n",
        "    else:\n",
        "      print (n,end=\" \")"
      ],
      "execution_count": null,
      "outputs": [
        {
          "output_type": "stream",
          "text": [
            "The random number is: 176\n",
            "2 3 5 7 11 13 17 19 23 29 31 37 41 43 47 53 59 61 67 71 73 79 83 89 97 101 103 107 109 113 127 131 137 139 149 151 157 163 167 173 "
          ],
          "name": "stdout"
        }
      ]
    },
    {
      "cell_type": "code",
      "metadata": {
        "colab": {
          "base_uri": "https://localhost:8080/"
        },
        "id": "Iik1z_vw8atV",
        "outputId": "3850b641-c606-48cb-a213-2c52a384f437"
      },
      "source": [
        " \n",
        "r=4\n",
        "for i in range (1,r):\n",
        "  for j in range (1,i+1):\n",
        "    print(i,end=\" \")\n",
        "  print (\" \")"
      ],
      "execution_count": null,
      "outputs": [
        {
          "output_type": "stream",
          "text": [
            "1  \n",
            "2 2  \n",
            "3 3 3  \n"
          ],
          "name": "stdout"
        }
      ]
    },
    {
      "cell_type": "code",
      "metadata": {
        "colab": {
          "base_uri": "https://localhost:8080/"
        },
        "id": "3qAGH1p7-YN0",
        "outputId": "89637a8c-9806-4916-d929-89fd155e328f"
      },
      "source": [
        " \n",
        "r=4\n",
        "for i in range (1,r):\n",
        "  for j in range (1,i+1):\n",
        "    print(j,end=\" \")\n",
        "  print (\" \")"
      ],
      "execution_count": null,
      "outputs": [
        {
          "output_type": "stream",
          "text": [
            "1  \n",
            "1 2  \n",
            "1 2 3  \n"
          ],
          "name": "stdout"
        }
      ]
    },
    {
      "cell_type": "code",
      "metadata": {
        "colab": {
          "base_uri": "https://localhost:8080/"
        },
        "id": "qdqcCb7TBPXH",
        "outputId": "40ffeeff-7ef7-40f2-857d-b4e56b741a54"
      },
      "source": [
        "import datetime\n",
        "print (datetime.datetime.now())"
      ],
      "execution_count": null,
      "outputs": [
        {
          "output_type": "stream",
          "text": [
            "2021-02-28 09:44:04.435643\n"
          ],
          "name": "stdout"
        }
      ]
    },
    {
      "cell_type": "code",
      "metadata": {
        "colab": {
          "base_uri": "https://localhost:8080/"
        },
        "id": "TAZEubvjBjYc",
        "outputId": "e1b4a8a6-138b-4685-852b-93bf80860dc4"
      },
      "source": [
        "import calendar\n",
        "yy=2021\n",
        "mm=2\n",
        "print(calendar.month(yy,mm))"
      ],
      "execution_count": null,
      "outputs": [
        {
          "output_type": "stream",
          "text": [
            "   February 2021\n",
            "Mo Tu We Th Fr Sa Su\n",
            " 1  2  3  4  5  6  7\n",
            " 8  9 10 11 12 13 14\n",
            "15 16 17 18 19 20 21\n",
            "22 23 24 25 26 27 28\n",
            "\n"
          ],
          "name": "stdout"
        }
      ]
    },
    {
      "cell_type": "code",
      "metadata": {
        "colab": {
          "base_uri": "https://localhost:8080/"
        },
        "id": "Ev0zwwdYCoNr",
        "outputId": "cacd91d4-91f2-4503-9aab-7a0362e59d2a"
      },
      "source": [
        " import calendar\n",
        "yy=2021\n",
        " \n",
        "print(calendar.calendar(yy))"
      ],
      "execution_count": null,
      "outputs": [
        {
          "output_type": "stream",
          "text": [
            "                                  2021\n",
            "\n",
            "      January                   February                   March\n",
            "Mo Tu We Th Fr Sa Su      Mo Tu We Th Fr Sa Su      Mo Tu We Th Fr Sa Su\n",
            "             1  2  3       1  2  3  4  5  6  7       1  2  3  4  5  6  7\n",
            " 4  5  6  7  8  9 10       8  9 10 11 12 13 14       8  9 10 11 12 13 14\n",
            "11 12 13 14 15 16 17      15 16 17 18 19 20 21      15 16 17 18 19 20 21\n",
            "18 19 20 21 22 23 24      22 23 24 25 26 27 28      22 23 24 25 26 27 28\n",
            "25 26 27 28 29 30 31                                29 30 31\n",
            "\n",
            "       April                      May                       June\n",
            "Mo Tu We Th Fr Sa Su      Mo Tu We Th Fr Sa Su      Mo Tu We Th Fr Sa Su\n",
            "          1  2  3  4                      1  2          1  2  3  4  5  6\n",
            " 5  6  7  8  9 10 11       3  4  5  6  7  8  9       7  8  9 10 11 12 13\n",
            "12 13 14 15 16 17 18      10 11 12 13 14 15 16      14 15 16 17 18 19 20\n",
            "19 20 21 22 23 24 25      17 18 19 20 21 22 23      21 22 23 24 25 26 27\n",
            "26 27 28 29 30            24 25 26 27 28 29 30      28 29 30\n",
            "                          31\n",
            "\n",
            "        July                     August                  September\n",
            "Mo Tu We Th Fr Sa Su      Mo Tu We Th Fr Sa Su      Mo Tu We Th Fr Sa Su\n",
            "          1  2  3  4                         1             1  2  3  4  5\n",
            " 5  6  7  8  9 10 11       2  3  4  5  6  7  8       6  7  8  9 10 11 12\n",
            "12 13 14 15 16 17 18       9 10 11 12 13 14 15      13 14 15 16 17 18 19\n",
            "19 20 21 22 23 24 25      16 17 18 19 20 21 22      20 21 22 23 24 25 26\n",
            "26 27 28 29 30 31         23 24 25 26 27 28 29      27 28 29 30\n",
            "                          30 31\n",
            "\n",
            "      October                   November                  December\n",
            "Mo Tu We Th Fr Sa Su      Mo Tu We Th Fr Sa Su      Mo Tu We Th Fr Sa Su\n",
            "             1  2  3       1  2  3  4  5  6  7             1  2  3  4  5\n",
            " 4  5  6  7  8  9 10       8  9 10 11 12 13 14       6  7  8  9 10 11 12\n",
            "11 12 13 14 15 16 17      15 16 17 18 19 20 21      13 14 15 16 17 18 19\n",
            "18 19 20 21 22 23 24      22 23 24 25 26 27 28      20 21 22 23 24 25 26\n",
            "25 26 27 28 29 30 31      29 30                     27 28 29 30 31\n",
            "\n"
          ],
          "name": "stdout"
        }
      ]
    },
    {
      "cell_type": "code",
      "metadata": {
        "colab": {
          "base_uri": "https://localhost:8080/"
        },
        "id": "xW0rWutlnqzR",
        "outputId": "e0f99813-d0c7-47b4-971e-e8f6f2ed37b2"
      },
      "source": [
        " \n",
        "stuff = {'rope': 1, 'torch': 6, 'gold coin': 42, 'dagger': 1, 'arrow': 12}\n",
        "def displayInventory(inventory): \n",
        "  print(\"Inventory:\")\n",
        "  item_total = 0\n",
        "  for k, v in sorted (inventory.items()):\n",
        "    item_total = item_total + v\n",
        "    print(str(stuff.get(k)) + '\\t' + k)\n",
        "  print(\"Total number of items: \" + str(item_total))\n",
        "displayInventory(stuff)"
      ],
      "execution_count": null,
      "outputs": [
        {
          "output_type": "stream",
          "text": [
            "Inventory:\n",
            "12\tarrow\n",
            "1\tdagger\n",
            "42\tgold coin\n",
            "1\trope\n",
            "6\ttorch\n",
            "Total number of items: 62\n"
          ],
          "name": "stdout"
        }
      ]
    },
    {
      "cell_type": "code",
      "metadata": {
        "colab": {
          "base_uri": "https://localhost:8080/"
        },
        "id": "7hOEmsOqIgud",
        "outputId": "2b7a1692-1a42-4abd-af1f-1a044b0aabc7"
      },
      "source": [
        " \n",
        "import datetime\n",
        "def get_user_birthday():\n",
        "  year = int(input('When is your birthday? [YY] '))\n",
        "  month = int(input('When is your birthday? [MM] '))\n",
        "  day = int(input('When is your birthday? [DD] '))\n",
        "  birthday = datetime.datetime(year,month,day)\n",
        "  return birthday\n",
        "def calculate_dates(original_date, now):\n",
        "   date1 = now\n",
        "   date2 = datetime.datetime(now.year, original_date.month, original_date.day)\n",
        "   delta = date2 - date1\n",
        "   days = delta.total_seconds() / 60 /60 /24\n",
        "   return days\n",
        "def show_info(self):\n",
        "  pass\n",
        "bd = get_user_birthday()\n",
        "now = datetime.datetime.now()\n",
        "c = calculate_dates(bd,now)\n",
        "print(c)"
      ],
      "execution_count": null,
      "outputs": [
        {
          "output_type": "stream",
          "text": [
            "When is your birthday? [YY] 2000\n",
            "When is your birthday? [MM] 02\n",
            "When is your birthday? [DD] 28\n",
            "-0.6221399971875\n"
          ],
          "name": "stdout"
        }
      ]
    },
    {
      "cell_type": "code",
      "metadata": {
        "colab": {
          "base_uri": "https://localhost:8080/"
        },
        "id": "cCHuMrxXJu2I",
        "outputId": "4e410c12-d862-45fd-8eb9-b6b0f12b0acd"
      },
      "source": [
        " \n",
        "class A: \n",
        "  def __init__(self, a): \n",
        "    self.a = a \n",
        "  \n",
        "  def __add__(self, o): \n",
        "    return self.a + o.a\n",
        "  def __sub__(self, o):\n",
        "    return self.a - o.a\n",
        "  def __mul__(self, o):\n",
        "    return self.a * o.a\n",
        " \n",
        "ob1 = A(1) \n",
        "ob2 = A(2) \n",
        "ob3 = A(\"Python\") \n",
        "ob4 = A(\"Applications\") \n",
        " \n",
        "print(ob1 + ob2) \n",
        "print(ob1 - ob2) \n",
        "print(ob1 * ob2)\n",
        "print(ob3 + ob4)"
      ],
      "execution_count": 11,
      "outputs": [
        {
          "output_type": "stream",
          "text": [
            "3\n",
            "-1\n",
            "2\n",
            "PythonApplications\n"
          ],
          "name": "stdout"
        }
      ]
    }
  ]
}