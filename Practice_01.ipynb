{
  "nbformat": 4,
  "nbformat_minor": 0,
  "metadata": {
    "colab": {
      "name": "Practice 01.ipynb",
      "provenance": [],
      "collapsed_sections": [],
      "authorship_tag": "ABX9TyMRk8ItC344f6A2LaKg+Suy",
      "include_colab_link": true
    },
    "kernelspec": {
      "display_name": "Python 3",
      "name": "python3"
    }
  },
  "cells": [
    {
      "cell_type": "markdown",
      "metadata": {
        "id": "view-in-github",
        "colab_type": "text"
      },
      "source": [
        "<a href=\"https://colab.research.google.com/github/puni2426/python/blob/main/Practice_01.ipynb\" target=\"_parent\"><img src=\"https://colab.research.google.com/assets/colab-badge.svg\" alt=\"Open In Colab\"/></a>"
      ]
    },
    {
      "cell_type": "markdown",
      "metadata": {
        "id": "eAETMgqDmitZ"
      },
      "source": [
        "Sum of all n number"
      ]
    },
    {
      "cell_type": "code",
      "metadata": {
        "colab": {
          "base_uri": "https://localhost:8080/"
        },
        "id": "LnQ_FEMCrWu1",
        "outputId": "95e25102-b10f-4a8a-be37-a0068213d07f"
      },
      "source": [
        "n=int(input(\"enter a no:\"))\n",
        "sum = 0\n",
        "L=[]\n",
        "for i in range(0,n+1):\n",
        "  if i%2==0:\n",
        "    sum=sum+i\n",
        "    L.append(sum)\n",
        "print(sum)"
      ],
      "execution_count": null,
      "outputs": [
        {
          "output_type": "stream",
          "text": [
            "enter a no:10\n",
            "30\n"
          ],
          "name": "stdout"
        }
      ]
    },
    {
      "cell_type": "code",
      "metadata": {
        "id": "oGVaacKx6rVA"
      },
      "source": [
        ""
      ],
      "execution_count": null,
      "outputs": []
    },
    {
      "cell_type": "markdown",
      "metadata": {
        "id": "HivgPbQNl7Gj"
      },
      "source": [
        "Prime number in a given range"
      ]
    },
    {
      "cell_type": "code",
      "metadata": {
        "colab": {
          "base_uri": "https://localhost:8080/"
        },
        "id": "-ZMrkOaezWOU",
        "outputId": "d03426df-56d4-4357-bbd9-b2248709b2a9"
      },
      "source": [
        "for num in range(1,26):\n",
        "  if num>1:\n",
        "    for i in range(2,num):\n",
        "      if num%i==0:\n",
        "        break\n",
        "    else:\n",
        "      print(num,end=\" \")"
      ],
      "execution_count": null,
      "outputs": [
        {
          "output_type": "stream",
          "text": [
            "2 3 5 7 11 13 17 19 23 "
          ],
          "name": "stdout"
        }
      ]
    },
    {
      "cell_type": "markdown",
      "metadata": {
        "id": "S1yyC8pfmCWy"
      },
      "source": [
        "sum of all even no and product of all odd no"
      ]
    },
    {
      "cell_type": "code",
      "metadata": {
        "colab": {
          "base_uri": "https://localhost:8080/"
        },
        "id": "FqNMS7E1VBod",
        "outputId": "9643cf7e-473e-4b3a-adc5-897c5c63859f"
      },
      "source": [
        "n=int(input(\"enter n\"))\n",
        "l1=[]\n",
        "l2=[]\n",
        "sum=0\n",
        "product=1\n",
        "for i in range (0,n+1):\n",
        "  if i%2==0:\n",
        "    sum=sum+i\n",
        "    l1.append(sum)\n",
        "  else:\n",
        "    product=product*i\n",
        "    l2.append(product)\n",
        "print (l1)\n",
        "print (l2)"
      ],
      "execution_count": null,
      "outputs": [
        {
          "output_type": "stream",
          "text": [
            "enter n10\n",
            "[0, 2, 6, 12, 20, 30]\n",
            "[1, 3, 15, 105, 945]\n"
          ],
          "name": "stdout"
        }
      ]
    },
    {
      "cell_type": "markdown",
      "metadata": {
        "id": "ln_hOpvVmNW_"
      },
      "source": [
        "Biggest of three no input using a keyboard"
      ]
    },
    {
      "cell_type": "code",
      "metadata": {
        "colab": {
          "base_uri": "https://localhost:8080/"
        },
        "id": "trYTDuUDY5LW",
        "outputId": "4a9c02f2-9e67-4f3a-d663-02749b36db7e"
      },
      "source": [
        "l=[]\n",
        "n=int(input (\"enter n\"))\n",
        "for i in range (0,n):\n",
        "  value=int(input(\"enter values  \"))\n",
        "  l.append(value)\n",
        "print(l)\n",
        "big=0\n",
        "for i in l:\n",
        "  if i>big:\n",
        "    big=i\n",
        "print(big)"
      ],
      "execution_count": null,
      "outputs": [
        {
          "output_type": "stream",
          "text": [
            "enter n3\n",
            "enter values  1\n",
            "enter values  5\n",
            "enter values  4\n",
            "[1, 5, 4]\n",
            "5\n"
          ],
          "name": "stdout"
        }
      ]
    },
    {
      "cell_type": "markdown",
      "metadata": {
        "id": "1PVHNmdccc1B"
      },
      "source": [
        "Palindrome"
      ]
    },
    {
      "cell_type": "code",
      "metadata": {
        "colab": {
          "base_uri": "https://localhost:8080/"
        },
        "id": "TX6p0AU7ce9G",
        "outputId": "943955a2-4311-4f3e-a5d2-8e4987f337b0"
      },
      "source": [
        "n=int(input(\"enter number\"))\n",
        "rev=0\n",
        "temp=n\n",
        "while n>0:\n",
        "  rem=n%10\n",
        "  n=n//10\n",
        "  rev=rev*10+rem\n",
        "if temp==rev:\n",
        "  print(temp,\"is a palindrome\")\n",
        "else:\n",
        "  print(temp,\"is not a palindrome\")"
      ],
      "execution_count": null,
      "outputs": [
        {
          "output_type": "stream",
          "text": [
            "enter number1221\n",
            "1221 is a palindrome\n"
          ],
          "name": "stdout"
        }
      ]
    },
    {
      "cell_type": "markdown",
      "metadata": {
        "id": "1klWhtyimVx4"
      },
      "source": [
        "Palindrome for a string"
      ]
    },
    {
      "cell_type": "code",
      "metadata": {
        "colab": {
          "base_uri": "https://localhost:8080/"
        },
        "id": "p89P9bBEhMZj",
        "outputId": "27a765ed-67b1-4a09-f431-c314a35a5dd3"
      },
      "source": [
        " str=input(\"enter string \")\n",
        "if str==str[::-1]:\n",
        "  print(str,\"is a palindrome\")\n",
        "else:\n",
        "  print(str,\"is not a palindrome\")"
      ],
      "execution_count": null,
      "outputs": [
        {
          "output_type": "stream",
          "text": [
            "enter string appa\n",
            "appa is a palindrome\n"
          ],
          "name": "stdout"
        }
      ]
    },
    {
      "cell_type": "code",
      "metadata": {
        "colab": {
          "base_uri": "https://localhost:8080/"
        },
        "id": "li5kbA846td9",
        "outputId": "7973b7a3-cd5b-40b9-f234-94cc4ffb9af5"
      },
      "source": [
        "n=int(input(\"enter n\"))\n",
        "sum=0\n",
        "product=1\n",
        "for i in range (0,n+1):\n",
        "  if i%2==0:\n",
        "    sum=sum+i\n",
        "    \n",
        "  else:\n",
        "    product=product*i\n",
        "    \n",
        "print (\"sum of even no is = \" ,sum)\n",
        "print (\"product of odd no is =\",product)"
      ],
      "execution_count": null,
      "outputs": [
        {
          "output_type": "stream",
          "text": [
            "enter n10\n",
            "sum of even no is =  30\n",
            "product of odd no is = 945\n"
          ],
          "name": "stdout"
        }
      ]
    },
    {
      "cell_type": "code",
      "metadata": {
        "colab": {
          "base_uri": "https://localhost:8080/"
        },
        "id": "PGqzdMtF-5I7",
        "outputId": "2c779c51-0652-43ec-af8c-2b03991bffc1"
      },
      "source": [
        "a=float(input(\"enter a\"))\n",
        "b=float(input(\"enter b\"))\n",
        "if a>b:  \n",
        "  big = a\n",
        "else:  \n",
        "  big = b\n",
        "print(big)"
      ],
      "execution_count": null,
      "outputs": [
        {
          "output_type": "stream",
          "text": [
            "enter a2\n",
            "enter b5\n",
            "5.0\n"
          ],
          "name": "stdout"
        }
      ]
    },
    {
      "cell_type": "code",
      "metadata": {
        "colab": {
          "base_uri": "https://localhost:8080/"
        },
        "id": "CU74fHZS59tD",
        "outputId": "6e3c7f87-ae1e-41aa-ce77-df88f1bdb99b"
      },
      "source": [
        "import datetime\n",
        "print(datetime.datetime.now())"
      ],
      "execution_count": null,
      "outputs": [
        {
          "output_type": "stream",
          "text": [
            "2020-11-27 18:25:36.239093\n"
          ],
          "name": "stdout"
        }
      ]
    },
    {
      "cell_type": "code",
      "metadata": {
        "colab": {
          "base_uri": "https://localhost:8080/"
        },
        "id": "fjXKi4YG8BU4",
        "outputId": "78475276-8315-4797-a28d-3d0f7a9868dd"
      },
      "source": [
        "import calendar\n",
        "print(calendar.month(2020,2))"
      ],
      "execution_count": null,
      "outputs": [
        {
          "output_type": "stream",
          "text": [
            "   February 2020\n",
            "Mo Tu We Th Fr Sa Su\n",
            "                1  2\n",
            " 3  4  5  6  7  8  9\n",
            "10 11 12 13 14 15 16\n",
            "17 18 19 20 21 22 23\n",
            "24 25 26 27 28 29\n",
            "\n"
          ],
          "name": "stdout"
        }
      ]
    },
    {
      "cell_type": "code",
      "metadata": {
        "colab": {
          "base_uri": "https://localhost:8080/"
        },
        "id": "guI7suEn-ecX",
        "outputId": "72c2c000-4a1d-4088-dd47-777758c4b70e"
      },
      "source": [
        "import random\n",
        "sn=random.randint(1,20)\n",
        "print(sn)\n",
        "for i in range (1,7):\n",
        "  n=int(input ())\n",
        "  if n>sn:\n",
        "    print(\"high\")\n",
        "  elif n<sn:\n",
        "    print(\"low\")\n",
        "  else:\n",
        "    break\n",
        "if n==sn:\n",
        "  print(\"correct\")\n",
        "else:\n",
        "  print(\"not correct\")"
      ],
      "execution_count": null,
      "outputs": [
        {
          "output_type": "stream",
          "text": [
            "19\n",
            "2\n",
            "low\n",
            "12\n",
            "low\n",
            "19\n",
            "correct\n"
          ],
          "name": "stdout"
        }
      ]
    },
    {
      "cell_type": "code",
      "metadata": {
        "colab": {
          "base_uri": "https://localhost:8080/"
        },
        "id": "zFauZag1A9Hw",
        "outputId": "fe408da6-8ff7-4d9b-a17c-475a8ce01380"
      },
      "source": [
        "L=[]\n",
        "l=[]\n",
        "for i in range (0,11):\n",
        "  if i%2==0:\n",
        "    L.append(i)\n",
        "  else:\n",
        "    l.append(i)\n",
        "print(sum(L))\n",
        "print(numpy.prod(l))"
      ],
      "execution_count": null,
      "outputs": [
        {
          "output_type": "stream",
          "text": [
            "30\n",
            "945\n"
          ],
          "name": "stdout"
        }
      ]
    },
    {
      "cell_type": "code",
      "metadata": {
        "colab": {
          "base_uri": "https://localhost:8080/"
        },
        "id": "pVE71ZDtxmgq",
        "outputId": "ba8a09cf-a71c-4b1d-8cd9-f574e4de5bfe"
      },
      "source": [
        "L=[1,5,3]\n",
        "#S=sum(L)\n",
        "#print(any()"
      ],
      "execution_count": null,
      "outputs": [
        {
          "output_type": "stream",
          "text": [
            "[1, 5, 3]\n"
          ],
          "name": "stdout"
        }
      ]
    },
    {
      "cell_type": "code",
      "metadata": {
        "id": "3VdNDFsIyqPR",
        "colab": {
          "base_uri": "https://localhost:8080/"
        },
        "outputId": "33b1e14b-84bb-4bed-f95f-933dbe3da632"
      },
      "source": [
        "sum=lambda a,b:a+b\n",
        "print(sum(11,20))"
      ],
      "execution_count": null,
      "outputs": [
        {
          "output_type": "stream",
          "text": [
            "31\n"
          ],
          "name": "stdout"
        }
      ]
    },
    {
      "cell_type": "code",
      "metadata": {
        "colab": {
          "base_uri": "https://localhost:8080/"
        },
        "id": "IOUiH4PUwHe6",
        "outputId": "d570c1b4-11c3-492f-de6b-c463d1a39491"
      },
      "source": [
        "mul=lambda a,b:a*b\n",
        "sum=lambda a,b,c:a+mul(b,c)\n",
        "print(sum(11,20,2))"
      ],
      "execution_count": null,
      "outputs": [
        {
          "output_type": "stream",
          "text": [
            "51\n"
          ],
          "name": "stdout"
        }
      ]
    }
  ]
}